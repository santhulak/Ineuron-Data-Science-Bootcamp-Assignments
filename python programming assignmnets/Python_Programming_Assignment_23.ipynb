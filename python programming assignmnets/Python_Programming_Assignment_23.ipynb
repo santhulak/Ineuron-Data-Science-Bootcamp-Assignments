{
 "cells": [
  {
   "cell_type": "markdown",
   "id": "e6f7bb9a",
   "metadata": {},
   "source": [
    "Question 1\n",
    "\n",
    "Create a function that takes a number as an argument and returns True or False depending on whether the number is symmetrical or not. A number is symmetrical when it is the same as its reverse.\n",
    "\n",
    "Examples\n",
    "\n",
    "is_symmetrical(7227) ➞ True\n",
    "\n",
    "is_symmetrical(12567) ➞ False\n",
    "\n",
    "is_symmetrical(44444444) ➞ True\n",
    "\n",
    "is_symmetrical(9939) ➞ False\n",
    "\n",
    "is_symmetrical(1112111) ➞ True\n"
   ]
  },
  {
   "cell_type": "code",
   "execution_count": 1,
   "id": "ff8bc5e3",
   "metadata": {},
   "outputs": [
    {
     "name": "stdout",
     "output_type": "stream",
     "text": [
      "True\n",
      "False\n",
      "True\n",
      "False\n",
      "True\n"
     ]
    }
   ],
   "source": [
    "def is_symmetrical(num):\n",
    "    return str(num) == str(num)[::-1]\n",
    "\n",
    "print(is_symmetrical(7227))  \n",
    "print(is_symmetrical(12567))  \n",
    "print(is_symmetrical(44444444))  \n",
    "print(is_symmetrical(9939))  \n",
    "print(is_symmetrical(1112111))  \n"
   ]
  },
  {
   "cell_type": "markdown",
   "id": "1190a901",
   "metadata": {},
   "source": [
    "Question 2\n",
    "\n",
    "Given a string of numbers separated by a comma and space, return the product of the numbers.\n",
    "\n",
    "Examples\n",
    "\n",
    "multiply_nums(\"2, 3\") ➞ 6\n",
    "\n",
    "multiply_nums(\"1, 2, 3, 4\") ➞ 24\n",
    "\n",
    "multiply_nums(\"54, 75, 453, 0\") ➞ 0\n",
    "\n",
    "multiply_nums(\"10, -2\") ➞ -20\n"
   ]
  },
  {
   "cell_type": "code",
   "execution_count": 2,
   "id": "e860de67",
   "metadata": {},
   "outputs": [
    {
     "name": "stdout",
     "output_type": "stream",
     "text": [
      "6\n",
      "24\n",
      "0\n",
      "-20\n"
     ]
    }
   ],
   "source": [
    "def multiply_nums(nums):\n",
    "    # split the string into a list of numbers\n",
    "    nums_list = nums.split(\", \")\n",
    "    # initialize product as 1\n",
    "    product = 1\n",
    "    # iterate over each number in the list and multiply it with product\n",
    "    for num in nums_list:\n",
    "        product *= int(num)\n",
    "    # return the final product\n",
    "    return product\n",
    "\n",
    "print(multiply_nums(\"2, 3\")) \n",
    "print(multiply_nums(\"1, 2, 3, 4\")) \n",
    "print(multiply_nums(\"54, 75, 453, 0\"))\n",
    "print(multiply_nums(\"10, -2\"))\n"
   ]
  },
  {
   "cell_type": "markdown",
   "id": "c4224f27",
   "metadata": {},
   "source": [
    "Question 3\n",
    "\n",
    "Create a function that squares every digit of a number.\n",
    "\n",
    "Examples\n",
    "\n",
    "square_digits(9119) ➞ 811181\n",
    "\n",
    "square_digits(2483) ➞ 416649\n",
    "\n",
    "square_digits(3212) ➞ 9414\n",
    "\n",
    "Notes\n",
    "\n",
    "The function receives an integer and must return an integer.\n"
   ]
  },
  {
   "cell_type": "code",
   "execution_count": 3,
   "id": "c749ccac",
   "metadata": {},
   "outputs": [
    {
     "name": "stdout",
     "output_type": "stream",
     "text": [
      "811181\n",
      "416649\n",
      "9414\n"
     ]
    }
   ],
   "source": [
    "def square_digits(num):\n",
    "    result = \"\"\n",
    "    for digit in str(num):\n",
    "        result += str(int(digit) ** 2)\n",
    "    return int(result)\n",
    "\n",
    "print(square_digits(9119) )\n",
    "print(square_digits(2483))\n",
    "print(square_digits(3212))"
   ]
  },
  {
   "cell_type": "markdown",
   "id": "50b628b6",
   "metadata": {},
   "source": [
    "Question 4\n",
    "\n",
    "Create a function that sorts a list and removes all duplicate items from it.\n",
    "\n",
    "Examples\n",
    "\n",
    "setify([1, 3, 3, 5, 5]) ➞ [1, 3, 5]\n",
    "\n",
    "setify([4, 4, 4, 4]) ➞ [4]\n",
    "\n",
    "setify([5, 7, 8, 9, 10, 15]) ➞ [5, 7, 8, 9, 10, 15]\n",
    "\n",
    "setify([3, 3, 3, 2, 1]) ➞ [1, 2, 3]\n"
   ]
  },
  {
   "cell_type": "code",
   "execution_count": 4,
   "id": "50ad06be",
   "metadata": {},
   "outputs": [
    {
     "name": "stdout",
     "output_type": "stream",
     "text": [
      "[1, 3, 5]\n",
      "[4]\n",
      "[5, 7, 8, 9, 10, 15]\n",
      "[1, 2, 3]\n"
     ]
    }
   ],
   "source": [
    "def setify(lst):\n",
    "    return sorted(list(set(lst)))\n",
    "\n",
    "print(setify([1, 3, 3, 5, 5])) \n",
    "print(setify([4, 4, 4, 4])) \n",
    "print(setify([5, 7, 8, 9, 10, 15])) \n",
    "print(setify([3, 3, 3, 2, 1])) \n"
   ]
  },
  {
   "cell_type": "markdown",
   "id": "f729183c",
   "metadata": {},
   "source": [
    "Question 5\n",
    "\n",
    "Create a function that returns the mean of all digits.\n",
    "\n",
    "Examples\n",
    "\n",
    "mean(42) ➞ 3\n",
    "\n",
    "mean(12345) ➞ 3\n",
    "\n",
    "mean(666) ➞ 6\n",
    "\n",
    "Notes\n",
    "\n",
    "•\tThe mean of all digits is the sum of digits / how many digits there are (e.g. mean of digits in 512 is (5+1+2)/3(number of digits) = 8/3=2).\n",
    "\n",
    "•\tThe mean will always be an integer.\n",
    "\n"
   ]
  },
  {
   "cell_type": "code",
   "execution_count": 5,
   "id": "1aa1749e",
   "metadata": {},
   "outputs": [
    {
     "name": "stdout",
     "output_type": "stream",
     "text": [
      "3\n",
      "3\n",
      "6\n"
     ]
    }
   ],
   "source": [
    "def mean(num):\n",
    "    digits = str(num)\n",
    "    digit_sum = sum(int(d) for d in digits)\n",
    "    return int(digit_sum / len(digits))\n",
    "\n",
    "print(mean(42)) \n",
    "print(mean(12345)) \n",
    "print(mean(666)) \n"
   ]
  }
 ],
 "metadata": {
  "kernelspec": {
   "display_name": "Python 3 (ipykernel)",
   "language": "python",
   "name": "python3"
  },
  "language_info": {
   "codemirror_mode": {
    "name": "ipython",
    "version": 3
   },
   "file_extension": ".py",
   "mimetype": "text/x-python",
   "name": "python",
   "nbconvert_exporter": "python",
   "pygments_lexer": "ipython3",
   "version": "3.9.12"
  }
 },
 "nbformat": 4,
 "nbformat_minor": 5
}
