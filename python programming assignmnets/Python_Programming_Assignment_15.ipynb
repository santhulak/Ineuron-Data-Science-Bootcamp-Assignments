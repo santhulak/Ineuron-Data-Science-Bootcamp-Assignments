{
 "cells": [
  {
   "cell_type": "markdown",
   "id": "efbe1988",
   "metadata": {},
   "source": [
    "1.How many seconds are in an hour? Use the interactive interpreter as a calculator and multiply the number of seconds in a minute (60) by the number of minutes in an hour (also 60).\n",
    "sol. 60 \n",
    "\n"
   ]
  },
  {
   "cell_type": "code",
   "execution_count": 1,
   "id": "85531f50",
   "metadata": {},
   "outputs": [
    {
     "data": {
      "text/plain": [
       "3600"
      ]
     },
     "execution_count": 1,
     "metadata": {},
     "output_type": "execute_result"
    }
   ],
   "source": [
    "60*60"
   ]
  },
  {
   "cell_type": "markdown",
   "id": "d6d17115",
   "metadata": {},
   "source": [
    "2. Assign the result from the previous task (seconds in an hour) to a variable called seconds_per_hour.\n"
   ]
  },
  {
   "cell_type": "code",
   "execution_count": 2,
   "id": "0447819c",
   "metadata": {},
   "outputs": [],
   "source": [
    "seconds_per_hour = 60 * 60"
   ]
  },
  {
   "cell_type": "markdown",
   "id": "ee166421",
   "metadata": {},
   "source": [
    "3. How many seconds do you think there are in a day? Make use of the variables seconds per hour and minutes per hour.\n"
   ]
  },
  {
   "cell_type": "code",
   "execution_count": 3,
   "id": "f8fd4829",
   "metadata": {},
   "outputs": [],
   "source": [
    "\n",
    "seconds_per_hour = 60 * 60  # 3600 seconds per hour\n",
    "seconds_per_day = seconds_per_hour * 24  # 86400 seconds per day\n",
    "\n",
    "minutes_per_hour = 60  # 60 minutes per hour\n",
    "minutes_per_day = minutes_per_hour * 24  # 1440 minutes per day\n",
    "seconds_per_day = minutes_per_day * 60  # 86400 seconds per day\n"
   ]
  },
  {
   "cell_type": "markdown",
   "id": "f600033e",
   "metadata": {},
   "source": [
    "4. Calculate seconds per day again, but this time save the result in a variable called seconds_per_day\n"
   ]
  },
  {
   "cell_type": "code",
   "execution_count": null,
   "id": "68bece3a",
   "metadata": {},
   "outputs": [],
   "source": [
    "seconds_per_hour = 60 * 60  # 3600 seconds per hour\n",
    "seconds_per_day = seconds_per_hour * 24  # 86400 seconds per day"
   ]
  },
  {
   "cell_type": "markdown",
   "id": "10fb8246",
   "metadata": {},
   "source": [
    "5. Divide seconds_per_day by seconds_per_hour. Use floating-point (/) division.\n"
   ]
  },
  {
   "cell_type": "code",
   "execution_count": 5,
   "id": "64641f7a",
   "metadata": {},
   "outputs": [
    {
     "name": "stdout",
     "output_type": "stream",
     "text": [
      "24.0\n"
     ]
    }
   ],
   "source": [
    "seconds_per_hour = 60 * 60  # 3600 seconds per hour\n",
    "seconds_per_day = seconds_per_hour * 24  # 86400 seconds per day\n",
    "hours_per_day = seconds_per_day / seconds_per_hour  # 24 hours per day\n",
    "print(hours_per_day)"
   ]
  },
  {
   "cell_type": "markdown",
   "id": "942b956c",
   "metadata": {},
   "source": [
    "6. Divide seconds_per_day by seconds_per_hour, using integer (//) division. Did this number agree with the floating-point value from the previous question, aside from the final .0?\n",
    "\n",
    "If the result of the floating-point division had not been an exact integer, the integer division result would have been different."
   ]
  },
  {
   "cell_type": "code",
   "execution_count": 6,
   "id": "89bef51b",
   "metadata": {},
   "outputs": [
    {
     "name": "stdout",
     "output_type": "stream",
     "text": [
      "24\n"
     ]
    }
   ],
   "source": [
    "seconds_per_hour = 60 * 60  # 3600 seconds per hour\n",
    "seconds_per_day = seconds_per_hour * 24  # 86400 seconds per day\n",
    "hours_per_day = seconds_per_day // seconds_per_hour  # 24 hours per day\n",
    "print(hours_per_day)"
   ]
  },
  {
   "cell_type": "markdown",
   "id": "0afed188",
   "metadata": {},
   "source": [
    "7. Write a generator, genPrimes, that returns the sequence of prime numbers on successive calls to its next() method: 2, 3, 5, 7, 11, ..."
   ]
  },
  {
   "cell_type": "code",
   "execution_count": 7,
   "id": "b4f8cc90",
   "metadata": {},
   "outputs": [
    {
     "name": "stdout",
     "output_type": "stream",
     "text": [
      "2\n",
      "3\n",
      "5\n",
      "7\n",
      "11\n"
     ]
    }
   ],
   "source": [
    "def genPrimes():\n",
    "    primes = []\n",
    "    num = 2\n",
    "    while True:\n",
    "        if all(num % p != 0 for p in primes):\n",
    "            primes.append(num)\n",
    "            yield num\n",
    "        num += 1\n",
    "\n",
    "primes = genPrimes()\n",
    "print(next(primes))  \n",
    "print(next(primes))  \n",
    "print(next(primes))  \n",
    "print(next(primes))  \n",
    "print(next(primes))  \n"
   ]
  }
 ],
 "metadata": {
  "kernelspec": {
   "display_name": "Python 3 (ipykernel)",
   "language": "python",
   "name": "python3"
  },
  "language_info": {
   "codemirror_mode": {
    "name": "ipython",
    "version": 3
   },
   "file_extension": ".py",
   "mimetype": "text/x-python",
   "name": "python",
   "nbconvert_exporter": "python",
   "pygments_lexer": "ipython3",
   "version": "3.9.12"
  }
 },
 "nbformat": 4,
 "nbformat_minor": 5
}
