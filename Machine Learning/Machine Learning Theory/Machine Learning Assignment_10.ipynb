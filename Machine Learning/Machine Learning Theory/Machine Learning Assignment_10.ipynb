{
 "cells": [
  {
   "cell_type": "markdown",
   "id": "81fe49c6",
   "metadata": {},
   "source": [
    "1.\tDefine the Bayesian interpretation of probability.\n",
    "\n"
   ]
  },
  {
   "cell_type": "markdown",
   "id": "2799a75b",
   "metadata": {},
   "source": [
    "The Bayesian interpretation of probability is a viewpoint in statistics that interprets probability as a measure of the degree of belief or uncertainty in the occurrence of an event. Bayesian probability is widely used in machine learning, decision-making, and other fields where uncertain information must be used to make predictions or decisions. "
   ]
  },
  {
   "cell_type": "markdown",
   "id": "33df7304",
   "metadata": {},
   "source": [
    "2.\tDefine probability of a union of two events with equation.\n"
   ]
  },
  {
   "cell_type": "markdown",
   "id": "a9c3881e",
   "metadata": {},
   "source": [
    "The probability of the union of two events A and B is denoted as P(A ∪ B), and it is the probability that at least one of the two events occurs. The probability of the union of two events can be calculated using the following formula:\n",
    "\n",
    "P(A ∪ B) = P(A) + P(B) - P(A ∩ B)\n",
    "\n",
    "where P(A) is the probability of event A occurring, P(B) is the probability of event B occurring, and P(A ∩ B) is the probability of both events A and B occurring."
   ]
  },
  {
   "cell_type": "markdown",
   "id": "432f3eac",
   "metadata": {},
   "source": [
    "3.\tWhat is joint probability? What is its formula?\n"
   ]
  },
  {
   "cell_type": "markdown",
   "id": "9c1a8eca",
   "metadata": {},
   "source": [
    "Joint probability is the probability of two or more events occurring simultaneously. It is the probability of the intersection of two or more events. The formula for joint probability is:\n",
    "\n",
    "P(A and B) = P(A ∩ B) = P(B|A) * P(A)\n",
    "\n",
    "where P(A ∩ B) represents the probability of both A and B occurring, P(A) represents the probability of A occurring, and P(B|A) represents the conditional probability of B occurring given that A has occurred."
   ]
  },
  {
   "cell_type": "markdown",
   "id": "cc2304db",
   "metadata": {},
   "source": [
    "4.\tWhat is chain rule of probability?\n"
   ]
  },
  {
   "cell_type": "markdown",
   "id": "af2e78e1",
   "metadata": {},
   "source": [
    "The chain rule of probability is a formula used to calculate the joint probability of two or more events in terms of their conditional probabilities.\n",
    "\n",
    "Mathematically, the chain rule of probability can be stated as follows:\n",
    "\n",
    "P(A₁, A₂, ..., Aₙ) = P(A₁) * P(A₂|A₁) * P(A₃|A₁, A₂) * ... * P(Aₙ|A₁, A₂, ..., Aₙ₋₁)\n",
    "\n",
    "where P(A₁, A₂, ..., Aₙ) is the joint probability of the events A₁, A₂, ..., Aₙ occurring together, and P(Aᵢ|A₁, A₂, ..., Aᵢ₋₁) is the conditional probability of event Aᵢ occurring given the occurrence of the previous events A₁, A₂, ..., Aᵢ₋₁."
   ]
  },
  {
   "cell_type": "markdown",
   "id": "d1c73db0",
   "metadata": {},
   "source": [
    "5.\tWhat is conditional probability means? What is the formula of it?\n"
   ]
  },
  {
   "cell_type": "markdown",
   "id": "eb553b90",
   "metadata": {},
   "source": [
    "Conditional probability refers to the probability of an event occurring given that another event has occurred. It is denoted as P(A | B) and is read as \"the probability of A given B.\" The formula for conditional probability is:\n",
    "\n",
    "P(A | B) = P(A ∩ B) / P(B)\n",
    "\n",
    "where P(A ∩ B) is the probability of both events A and B occurring together and P(B) is the probability of event B occurring."
   ]
  },
  {
   "cell_type": "markdown",
   "id": "7996431f",
   "metadata": {},
   "source": [
    "6.\tWhat are continuous random variables?\n"
   ]
  },
  {
   "cell_type": "markdown",
   "id": "54af09d8",
   "metadata": {},
   "source": [
    "In probability theory and statistics, a continuous random variable is a random variable that can take on any value in a given interval or range of values. Continuous random variables are often used to model quantities that can take on an infinite number of possible values, such as height, weight, or time."
   ]
  },
  {
   "cell_type": "markdown",
   "id": "7e80a18b",
   "metadata": {},
   "source": [
    "7.\tWhat are Bernoulli distributions? What is the formula of it?\n"
   ]
  },
  {
   "cell_type": "markdown",
   "id": "4f566fe1",
   "metadata": {},
   "source": [
    "A Bernoulli distribution is a discrete probability distribution that describes the outcome of a single binary (yes/no) experiment or trial, such as a coin flip. The distribution takes on two possible values: 1 (success) with probability p and 0 (failure) with probability 1-p. The probability p is often referred to as the success probability or the Bernoulli parameter."
   ]
  },
  {
   "cell_type": "markdown",
   "id": "d6c23edf",
   "metadata": {},
   "source": [
    "8.\tWhat is binomial distribution? What is the formula?\n"
   ]
  },
  {
   "cell_type": "markdown",
   "id": "f775fec2",
   "metadata": {},
   "source": [
    "Binomial distribution is a discrete probability distribution that describes the number of successes in a fixed number of independent trials, given a constant probability of success for each trial.\n",
    "\n",
    "The formula for the probability mass function (PMF) of the binomial distribution is:\n",
    "\n",
    "P(X = k) = (n choose k) * p^k * (1-p)^(n-k)\n",
    "\n",
    "where:\n",
    "\n",
    "X is the random variable representing the number of successes\n",
    "\n",
    "k is the number of successes\n",
    "\n",
    "n is the total number of trials\n",
    "\n",
    "p is the probability of success for each trial\n",
    "\n",
    "(n choose k) is the binomial coefficient, which represents the number of ways to choose k successes from n trials."
   ]
  },
  {
   "cell_type": "markdown",
   "id": "2bc8ead0",
   "metadata": {},
   "source": [
    "9.\tWhat is Poisson distribution? What is the formula?\n"
   ]
  },
  {
   "cell_type": "markdown",
   "id": "49714555",
   "metadata": {},
   "source": [
    "Poisson distribution is a discrete probability distribution that expresses the probability of a given number of events occurring in a fixed interval of time or space, given that these events occur with a known average rate and independently of the time since the last event.\n",
    "\n",
    "The formula for the Poisson distribution is:\n",
    "\n",
    "P(X = k) = (e^(-λ) * λ^k) / k!\n",
    "\n",
    "where:\n",
    "\n",
    "X is the random variable that represents the number of events in the interval\n",
    "\n",
    "k is the number of events that occur in the interval\n",
    "\n",
    "λ is the average rate of events per interval\n",
    "\n",
    "e is the mathematical constant e (approximately equal to 2.71828)\n",
    "\n",
    "k! is the factorial of k (i.e., the product of all positive integers up to k)"
   ]
  },
  {
   "cell_type": "markdown",
   "id": "d69ee73d",
   "metadata": {},
   "source": [
    "10.\tDefine covariance.\n"
   ]
  },
  {
   "cell_type": "markdown",
   "id": "befa9cbd",
   "metadata": {},
   "source": [
    "Covariance is a statistical measure that describes the degree of association or the relationship between two random variables. It indicates the direction of the linear relationship between two variables and how much they vary together. If the covariance value is positive, it implies that the two variables move in the same direction, while if it is negative, they move in opposite directions. A covariance of zero indicates no linear relationship between the variables."
   ]
  },
  {
   "cell_type": "markdown",
   "id": "b3fb271d",
   "metadata": {},
   "source": [
    "11.\tDefine correlation\n"
   ]
  },
  {
   "cell_type": "markdown",
   "id": "1fadaef6",
   "metadata": {},
   "source": [
    "Correlation is a statistical measure that indicates the extent to which two or more variables are related or associated with each other. It shows the strength and direction of the linear relationship between the variables. Correlation can range from -1 to +1, where -1 indicates a perfect negative correlation, 0 indicates no correlation, and +1 indicates a perfect positive correlation. A positive correlation means that as one variable increases, the other variable also increases, while a negative correlation means that as one variable increases, the other variable decreases."
   ]
  },
  {
   "cell_type": "markdown",
   "id": "573a6f75",
   "metadata": {},
   "source": [
    "12.\tDefine sampling with replacement. Give example.\n"
   ]
  },
  {
   "cell_type": "markdown",
   "id": "7f73fcd8",
   "metadata": {},
   "source": [
    "Sampling with replacement is a process of randomly selecting an element from a population and then returning it back before the next selection. This means that the same element can be selected multiple times.\n",
    "\n",
    "For example, suppose there are 5 marbles in a bag numbered from 1 to 5. If we were to take out a marble from the bag, record its number, and then put it back in the bag before the next selection, we would be doing sampling with replacement. We could repeat this process any number of times, and it would still be possible to select the same marble multiple times."
   ]
  },
  {
   "cell_type": "markdown",
   "id": "ddbbce1e",
   "metadata": {},
   "source": [
    "13.\tWhat is sampling without replacement? Give example.\n"
   ]
  },
  {
   "cell_type": "markdown",
   "id": "859e36c8",
   "metadata": {},
   "source": [
    "Sampling without replacement is a sampling method in which each selected sample unit is removed from the population before the next sample unit is selected.  For example, suppose we have a population of 10 students, and we want to select a sample of 3 students without replacement. We randomly select one student from the population, and this student is removed from the population. Then we randomly select another student from the remaining 9 students, and this student is also removed from the population. Finally, we randomly select the third student from the remaining 8 students. Since we are not replacing the selected students, each student can only be selected once in the sample."
   ]
  },
  {
   "cell_type": "markdown",
   "id": "f2569d10",
   "metadata": {},
   "source": [
    "14.\tWhat is hypothesis? Give example."
   ]
  },
  {
   "cell_type": "markdown",
   "id": "70d53c41",
   "metadata": {},
   "source": [
    "In statistics, a hypothesis is a tentative assumption made about the population parameters or distribution. It is a statement that can be tested through an experiment or statistical analysis. In hypothesis testing, we start with a null hypothesis, which is the assumption we want to test, and an alternative hypothesis, which is the opposite of the null hypothesis.\n",
    "\n",
    "For example, let's say we want to test if a new drug is effective in reducing blood pressure. The null hypothesis would be that the drug has no effect on blood pressure, while the alternative hypothesis would be that the drug does have an effect on blood pressure. We would then collect data through an experiment and use statistical analysis to either reject or fail to reject the null hypothesis based on the evidence we have gathered."
   ]
  }
 ],
 "metadata": {
  "kernelspec": {
   "display_name": "Python 3 (ipykernel)",
   "language": "python",
   "name": "python3"
  },
  "language_info": {
   "codemirror_mode": {
    "name": "ipython",
    "version": 3
   },
   "file_extension": ".py",
   "mimetype": "text/x-python",
   "name": "python",
   "nbconvert_exporter": "python",
   "pygments_lexer": "ipython3",
   "version": "3.9.13"
  }
 },
 "nbformat": 4,
 "nbformat_minor": 5
}
