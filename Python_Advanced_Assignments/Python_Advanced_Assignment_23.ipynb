{
 "cells": [
  {
   "cell_type": "markdown",
   "id": "fbdf1c11",
   "metadata": {},
   "source": [
    "Q1. If you have any, what are your choices for increasing the comparison between different figures on the same graph?\n",
    "\n",
    "\n",
    "\n"
   ]
  },
  {
   "cell_type": "markdown",
   "id": "3fd09ab6",
   "metadata": {},
   "source": [
    "There are several options for increasing the comparison between different figures on the same graph:\n",
    "\n",
    "- Change the y-axis scale\n",
    "- Use color or shading\n",
    "- Add labels or annotations\n",
    "- Use statistical measures\n",
    "- Use small multiples"
   ]
  },
  {
   "cell_type": "markdown",
   "id": "10c76fa4",
   "metadata": {},
   "source": [
    "\n",
    "Q2. Can you explain the benefit of compound interest over a higher rate of interest that does not compound after reading this chapter?\n",
    "\n",
    "\n",
    "\n"
   ]
  },
  {
   "cell_type": "markdown",
   "id": "2b9d70ee",
   "metadata": {},
   "source": [
    "Compound interest refers to the interest earned on the initial principal plus any accumulated interest from previous periods. In contrast, simple interest only earns interest on the initial principal. The benefit of compound interest is that it allows the account balance to grow at an accelerated pace."
   ]
  },
  {
   "cell_type": "markdown",
   "id": "8b9c15f8",
   "metadata": {},
   "source": [
    "Q3. What is a histogram, exactly? Name a numpy method for creating such a graph.\n",
    "\n",
    "\n",
    "\n"
   ]
  },
  {
   "cell_type": "markdown",
   "id": "6257f27f",
   "metadata": {},
   "source": [
    "A histogram is a graphical representation of the distribution of a dataset, where data values are grouped into ranges or bins, and the frequency or count of values falling within each bin is represented by the height of a bar. It provides a visual representation of the shape, central tendency, and spread of the data.\n",
    "\n",
    "In NumPy, the histogram() function can be used to create a histogram. It takes an input array of data and returns two arrays: the values of the histogram bins and the corresponding frequencies or counts. These can then be plotted using a suitable visualization library such as Matplotlib."
   ]
  },
  {
   "cell_type": "markdown",
   "id": "f7c5a64d",
   "metadata": {},
   "source": [
    "Q4. If necessary, how do you change the aspect ratios between the X and Y axes?\n",
    "\n",
    "\n",
    "\n"
   ]
  },
  {
   "cell_type": "markdown",
   "id": "e7c76089",
   "metadata": {},
   "source": [
    "You can change the aspect ratios between the X and Y axes in Matplotlib by setting the aspect parameter of the Axes object.\n",
    "\n",
    "ax.set_aspect('equal')\n",
    "\n",
    "The set_aspect method takes a string argument, which can be one of the following:\n",
    "\n",
    "'equal': make the aspect ratio equal between the X and Y axes.\n",
    "\n",
    "'auto': let Matplotlib determine the aspect ratio automatically.\n",
    "\n",
    "ax.set_aspect(2.0)\n",
    "\n",
    "A number: set the aspect ratio to the given number."
   ]
  },
  {
   "cell_type": "markdown",
   "id": "a4c08ff1",
   "metadata": {},
   "source": [
    "Q5. Compare and contrast the three types of array multiplication between two numpy arrays: dot product, outer product, and regular multiplication of two numpy arrays.\n",
    "\n"
   ]
  },
  {
   "cell_type": "markdown",
   "id": "75aec3d2",
   "metadata": {},
   "source": [
    "Numpy provides three types of array multiplication between two numpy arrays: dot product, outer product, and regular multiplication.\n",
    "\n",
    "Dot product: The dot product is a binary operation that accepts two vectors and returns a scalar. In numpy, the dot product can be calculated using np.dot()\n",
    "\n",
    "Outer product: The outer product of two vectors A and B is a matrix of size len(A) x len(B). In numpy, the outer product can be calculated using np.outer(). \n",
    "\n",
    "Regular multiplication: This is the standard element-wise multiplication that can be performed using the * operator. "
   ]
  },
  {
   "cell_type": "markdown",
   "id": "cdc88aac",
   "metadata": {},
   "source": [
    "\n",
    "\n",
    "Q6. Before you buy a home, which numpy function will you use to measure your monthly mortgage payment?\n",
    "\n"
   ]
  },
  {
   "cell_type": "markdown",
   "id": "6749fd9a",
   "metadata": {},
   "source": [
    "There is no single numpy function that can be used to calculate the monthly mortgage payment. However, numpy can be used in combination with other packages such as pandas, scikit-learn, and scipy to perform various calculations related to mortgages, such as amortization schedules, interest rates, and loan amounts."
   ]
  },
  {
   "cell_type": "markdown",
   "id": "fd7f3555",
   "metadata": {},
   "source": [
    "\n",
    "\n",
    "Q7. Can string data be stored in numpy arrays? If so, list at least one restriction that applies to this data."
   ]
  },
  {
   "cell_type": "markdown",
   "id": "afbbdabb",
   "metadata": {},
   "source": [
    "Yes, string data can be stored in numpy arrays using the numpy.ndarray data type numpy.str_ or numpy.unicode_.\n",
    "\n",
    "The strings must have a fixed length. This means that the maximum length of the strings in the array must be defined when the array is created, and all strings in the array must have this length."
   ]
  }
 ],
 "metadata": {
  "kernelspec": {
   "display_name": "Python 3 (ipykernel)",
   "language": "python",
   "name": "python3"
  },
  "language_info": {
   "codemirror_mode": {
    "name": "ipython",
    "version": 3
   },
   "file_extension": ".py",
   "mimetype": "text/x-python",
   "name": "python",
   "nbconvert_exporter": "python",
   "pygments_lexer": "ipython3",
   "version": "3.9.13"
  }
 },
 "nbformat": 4,
 "nbformat_minor": 5
}
