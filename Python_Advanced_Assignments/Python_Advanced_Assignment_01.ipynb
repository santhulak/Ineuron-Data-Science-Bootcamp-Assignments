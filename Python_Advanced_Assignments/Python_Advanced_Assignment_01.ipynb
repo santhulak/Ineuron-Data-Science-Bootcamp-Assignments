{
 "cells": [
  {
   "cell_type": "markdown",
   "id": "1e5d5fdf",
   "metadata": {},
   "source": [
    "Q1. What is the purpose of Python's OOP?\n",
    "\n",
    "\n",
    "\n",
    "\n"
   ]
  },
  {
   "cell_type": "markdown",
   "id": "937d51ac",
   "metadata": {},
   "source": [
    "The purpose of Python's Object-Oriented Programming (OOP) is to enable users to create reusable and modular code through the use of classes and objects. OOP allows programmers to define classes, which are templates for creating objects that have similar properties and behaviors. These classes can contain attributes (data) and methods (functions) that operate on that data. This approach makes it easier to write, maintain, and reuse code, as well as providing a way to encapsulate code and data into more manageable units. OOP in Python is based on the principles of encapsulation, inheritance, and polymorphism, which provide further flexibility and modularity to the code."
   ]
  },
  {
   "cell_type": "markdown",
   "id": "8d66424d",
   "metadata": {},
   "source": [
    "Q2. Where does an inheritance search look for an attribute?\n",
    "\n"
   ]
  },
  {
   "cell_type": "markdown",
   "id": "8d9d6fdd",
   "metadata": {},
   "source": [
    "In Python, when an attribute is accessed on an instance, the interpreter first checks the instance's dictionary, then the class dictionary, and then the base class dictionaries recursively. This order of search is also called Method Resolution Order (MRO). If the attribute is not found in any of these dictionaries, then Python raises an AttributeError."
   ]
  },
  {
   "cell_type": "markdown",
   "id": "e033bae3",
   "metadata": {},
   "source": [
    "\n",
    "\n",
    "Q3. How do you distinguish between a class object and an instance object?\n",
    "\n",
    "\n",
    "\n"
   ]
  },
  {
   "cell_type": "markdown",
   "id": "dc179b39",
   "metadata": {},
   "source": [
    "A class object is an object that represents a class in Python. It is created when a class is defined and contains information about the class, including its methods and attributes.\n",
    "\n",
    "An instance object, on the other hand, is created from a class and represents a specific instance of that class. It has its own set of attributes, which may be unique from other instances of the same class.\n",
    "\n",
    "In summary, a class object represents a class while an instance object represents a specific object created from that class."
   ]
  },
  {
   "cell_type": "markdown",
   "id": "a350ff86",
   "metadata": {},
   "source": [
    "Q4. What makes the first argument in a class’s method function special?"
   ]
  },
  {
   "cell_type": "markdown",
   "id": "7cd04e42",
   "metadata": {},
   "source": [
    "The first argument in a class's method function refers to the instance of the class that the method is being called on. This argument is conventionally named \"self\" and allows the method to access and modify the attributes of the instance. When a method is called on an instance, the instance is automatically passed as the first argument to the method, which allows the method to work with the data specific to that instance."
   ]
  },
  {
   "cell_type": "markdown",
   "id": "3673e039",
   "metadata": {},
   "source": [
    "Q5. What is the purpose of the __init__ method?\n",
    "\n",
    "\n",
    "\n"
   ]
  },
  {
   "cell_type": "markdown",
   "id": "43c6c9d5",
   "metadata": {},
   "source": [
    "The __init__ method is a special method in Python classes that gets called when an instance of the class is created. It is used to initialize the attributes of the object with the values passed as arguments when creating the instance.\n",
    "\n",
    "The __init__ method can be used to set default values for attributes, or to validate the values passed as arguments to the constructor. It can also perform any other setup that needs to be done when an instance of the class is created."
   ]
  },
  {
   "cell_type": "markdown",
   "id": "8d7598f2",
   "metadata": {},
   "source": [
    "Q6. What is the process for creating a class instance?"
   ]
  },
  {
   "cell_type": "markdown",
   "id": "96552138",
   "metadata": {},
   "source": [
    "To create a class instance, you first define the class with its attributes and methods. Then, to create an instance of the class, you call the class using its name as if it were a function, passing any required arguments to the class's __init__ method (if defined) to initialize its attributes. The instance is then created and returned."
   ]
  },
  {
   "cell_type": "markdown",
   "id": "2626c86c",
   "metadata": {},
   "source": [
    "Q7. What is the process for creating a class?"
   ]
  },
  {
   "cell_type": "markdown",
   "id": "b643e4ec",
   "metadata": {},
   "source": [
    "The class keyword is used to start the class definition block.\n",
    "\n",
    "The class name is specified, using the standard Python naming conventions (CamelCase with the first letter capitalized).\n",
    "\n",
    "The class body is indented and contains the attributes and methods of the class.\n",
    "\n",
    "The __init__ method is defined to initialize the attributes of the class.\n",
    "\n",
    "Other methods can be defined to implement the behavior of the class.\n",
    "\n",
    "The self keyword is used as the first argument to instance methods, which refers to the instance of the class being operated on.\n",
    "\n",
    "Class attributes can be defined outside of any method and can be accessed by all instances of the class.\n",
    "\n",
    "To create an instance of the class, the class name is used as a constructor, followed by parentheses. Any arguments required by the __init__ method are passed inside the parentheses."
   ]
  },
  {
   "cell_type": "markdown",
   "id": "f6d42c3a",
   "metadata": {},
   "source": [
    "\n",
    "Q8. How would you define the superclasses of a class?"
   ]
  },
  {
   "cell_type": "markdown",
   "id": "286e9445",
   "metadata": {},
   "source": [
    "In Python, a class can inherit from one or more parent classes, which are also known as superclasses. A superclass is defined as any class that is inherited by a child or subclass.\n",
    "\n",
    "To define a superclass in Python, you simply create a new class and define the methods and attributes that it should provide to its subclasses. When a subclass is defined, it can inherit from one or more superclasses by listing them in parentheses after the class name."
   ]
  }
 ],
 "metadata": {
  "kernelspec": {
   "display_name": "Python 3 (ipykernel)",
   "language": "python",
   "name": "python3"
  },
  "language_info": {
   "codemirror_mode": {
    "name": "ipython",
    "version": 3
   },
   "file_extension": ".py",
   "mimetype": "text/x-python",
   "name": "python",
   "nbconvert_exporter": "python",
   "pygments_lexer": "ipython3",
   "version": "3.9.12"
  }
 },
 "nbformat": 4,
 "nbformat_minor": 5
}
