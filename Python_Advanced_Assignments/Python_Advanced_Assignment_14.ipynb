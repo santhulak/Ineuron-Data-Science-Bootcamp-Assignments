{
 "cells": [
  {
   "cell_type": "markdown",
   "id": "23f0d414",
   "metadata": {},
   "source": [
    "Q1. Is an assignment operator like += only for show? Is it possible that it would lead to faster results at the runtime?\n",
    "\n",
    "\n",
    "\n",
    "\n"
   ]
  },
  {
   "cell_type": "markdown",
   "id": "0dbce4b9",
   "metadata": {},
   "source": [
    "No, the assignment operator += is not only for show, and it can lead to faster results at runtime. Using += to modify a list or a string in place can be faster than creating a new list or string with concatenation. This is because creating a new list or string requires allocating memory for the new object and copying the elements from the original object to the new object, which can be expensive in terms of both time and memory. "
   ]
  },
  {
   "cell_type": "markdown",
   "id": "2e397183",
   "metadata": {},
   "source": [
    "Q2. What is the smallest number of statements you'd have to write in most programming languages to replace the Python expression a, b = a + b, a?\n",
    "\n",
    "\n",
    "\n"
   ]
  },
  {
   "cell_type": "markdown",
   "id": "cef563db",
   "metadata": {},
   "source": [
    "In most programming languages, you would need three statements to replace the Python expression a, b = a + b, a:\n",
    "\n",
    "Create a temporary variable temp and assign it the value of a.\n",
    "\n",
    "Assign the value of a + b to a.\n",
    "\n",
    "Assign the value of temp to b."
   ]
  },
  {
   "cell_type": "markdown",
   "id": "d699bbce",
   "metadata": {},
   "source": [
    "Q3. In Python, what is the most effective way to set a list of 100 integers to 0?\n",
    "\n",
    "\n",
    "\n"
   ]
  },
  {
   "cell_type": "markdown",
   "id": "2f775f6c",
   "metadata": {},
   "source": [
    "The most effective way to set a list of 100 integers to 0 in Python is to use the list multiplication syntax, which creates a new list with a specified number of elements, all initialized to the same value."
   ]
  },
  {
   "cell_type": "markdown",
   "id": "56e2d7dc",
   "metadata": {},
   "source": [
    "Q4. What is the most effective way to initialise a list of 99 integers that repeats the sequence 1, 2, 3? S If necessary, show step-by-step instructions on how to accomplish this.\n",
    "\n",
    "\n",
    "The most effective way to initialize a list of 99 integers that repeats the sequence 1, 2, 3 is to use the modulo operator and list comprehension. \n"
   ]
  },
  {
   "cell_type": "code",
   "execution_count": 1,
   "id": "3c9015b7",
   "metadata": {},
   "outputs": [
    {
     "name": "stdout",
     "output_type": "stream",
     "text": [
      "[1, 2, 3, 1, 2, 3, 1, 2, 3, 1, 2, 3, 1, 2, 3, 1, 2, 3, 1, 2, 3, 1, 2, 3, 1, 2, 3, 1, 2, 3, 1, 2, 3, 1, 2, 3, 1, 2, 3, 1, 2, 3, 1, 2, 3, 1, 2, 3, 1, 2, 3, 1, 2, 3, 1, 2, 3, 1, 2, 3, 1, 2, 3, 1, 2, 3, 1, 2, 3, 1, 2, 3, 1, 2, 3, 1, 2, 3, 1, 2, 3, 1, 2, 3, 1, 2, 3, 1, 2, 3, 1, 2, 3, 1, 2, 3, 1, 2, 3]\n"
     ]
    }
   ],
   "source": [
    "my_list = [i % 3 + 1 for i in range(99)]\n",
    "print(my_list)\n"
   ]
  },
  {
   "cell_type": "markdown",
   "id": "2171c384",
   "metadata": {},
   "source": [
    "Q5. If you're using IDLE to run a Python application, explain how to print a multidimensional list as efficiently?\n",
    "\n",
    "\n",
    "\n"
   ]
  },
  {
   "cell_type": "markdown",
   "id": "2939bdca",
   "metadata": {},
   "source": [
    "To print a multidimensional list efficiently in IDLE, \n",
    "\n",
    "for row in matrix:\n",
    "\n",
    "    print(row)\n",
    "\n",
    "\n",
    "Here, matrix is the multidimensional list that you want to print. The for loop iterates through each row in the list, and the print statement prints the row."
   ]
  },
  {
   "cell_type": "markdown",
   "id": "2205321e",
   "metadata": {},
   "source": [
    "Q6. Is it possible to use list comprehension with a string? If so, how can you go about doing it?\n",
    "\n",
    "\n",
    "\n"
   ]
  },
  {
   "cell_type": "markdown",
   "id": "a22e6ac1",
   "metadata": {},
   "source": [
    "Yes, it is possible to use list comprehension with a string. In Python, a string is essentially a sequence of characters, so you can apply list comprehension to iterate over its characters and create a list of new elements based on them."
   ]
  },
  {
   "cell_type": "markdown",
   "id": "96f0bd1a",
   "metadata": {},
   "source": [
    "Q7. From the command line, how do you get support with a user-written Python programme? Is this possible from inside IDLE?\n",
    "\n",
    "\n",
    "\n"
   ]
  },
  {
   "cell_type": "markdown",
   "id": "f1c48d67",
   "metadata": {},
   "source": [
    "To get support with a user-written Python program from the command line, one can use the --help or -h flag followed by the name of the Python file. For example, if the file is named my_program.py, the command would be python my_program.py --help."
   ]
  },
  {
   "cell_type": "markdown",
   "id": "0e092268",
   "metadata": {},
   "source": [
    "Q8. Functions are said to be “first-class objects” in Python but not in most other languages, such as C++ or Java. What can you do in Python with a function (callable object) that you can't do in C or C++?\n",
    "\n",
    "\n",
    "\n"
   ]
  },
  {
   "cell_type": "markdown",
   "id": "34b30d72",
   "metadata": {},
   "source": [
    "In Python, functions are first-class objects, which means they can be treated like any other object, such as an integer or a string. \n",
    "\n",
    "Here are a few things you can do with functions in Python that you can't do in C or C++:\n",
    "\n",
    "Assign functions to variables or pass them as arguments to other functions. This allows for more flexible and dynamic programming.\n",
    "\n",
    "Define functions inside other functions. This is known as a nested function, and it allows you to create more modular and encapsulated code.\n",
    "\n",
    "Return functions from other functions. This is known as a higher-order function, and it can be used for more advanced programming techniques such as closures.\n",
    "\n",
    "Use functions as elements of data structures such as lists or dictionaries. This allows for more powerful and expressive data manipulation."
   ]
  },
  {
   "cell_type": "markdown",
   "id": "29121da3",
   "metadata": {},
   "source": [
    "Q9. How do you distinguish between a wrapper, a wrapped feature, and a decorator?\n",
    "\n",
    "\n",
    "\n"
   ]
  },
  {
   "cell_type": "markdown",
   "id": "f084ae1e",
   "metadata": {},
   "source": [
    "In Python, a wrapper is a function that takes another function as input and adds some additional functionality to it without modifying the original function's code. It typically accomplishes this by wrapping the original function inside a new function that provides the desired additional functionality.\n",
    "\n",
    "A wrapped feature is a function or method that is modified by a wrapper. The wrapper function typically performs some additional processing before or after calling the wrapped function, such as adding logging or error checking.\n",
    "\n",
    "A decorator is a specific type of wrapper in Python that uses the @ symbol and can be applied to a function or method to modify its behavior. Decorators are a convenient way to add additional functionality to a function or method without modifying its code directly. Decorators are themselves functions that take a function as an argument and return a new function that wraps the original function.\n",
    "\n"
   ]
  },
  {
   "cell_type": "markdown",
   "id": "e75bc1dd",
   "metadata": {},
   "source": [
    "Q10. If a function is a generator function, what does it return?\n",
    "\n",
    "\n"
   ]
  },
  {
   "cell_type": "markdown",
   "id": "694a0dfc",
   "metadata": {},
   "source": [
    "If a function is a generator function, it does not return a value in the traditional sense. Instead, it returns a generator object that can be iterated over to produce a sequence of values. Generator functions are typically used to generate large or infinite sequences of values that can be produced one at a time, without having to store the entire sequence in memory at once."
   ]
  },
  {
   "cell_type": "markdown",
   "id": "e51b3832",
   "metadata": {},
   "source": [
    "\n",
    "Q11. What is the one improvement that must be made to a function in order for it to become a generator function in the Python language?\n",
    "\n",
    "\n"
   ]
  },
  {
   "cell_type": "markdown",
   "id": "05c27c47",
   "metadata": {},
   "source": [
    "In Python, a generator function is defined using the yield keyword instead of return. Therefore, the one improvement that must be made to a function in order for it to become a generator function is to replace the return statements with yield statements. This allows the function to generate a series of values one at a time, rather than computing them all at once and returning them in a list. "
   ]
  },
  {
   "cell_type": "markdown",
   "id": "853a249f",
   "metadata": {},
   "source": [
    "\n",
    "Q12. Identify at least one benefit of generators."
   ]
  },
  {
   "cell_type": "markdown",
   "id": "ee72fe24",
   "metadata": {},
   "source": [
    "One benefit of generators is that they can generate a sequence of values on-the-fly, rather than having to generate and store all the values at once like a list. This can save memory and improve performance, especially for large sequences or when values are generated dynamically"
   ]
  }
 ],
 "metadata": {
  "kernelspec": {
   "display_name": "Python 3 (ipykernel)",
   "language": "python",
   "name": "python3"
  },
  "language_info": {
   "codemirror_mode": {
    "name": "ipython",
    "version": 3
   },
   "file_extension": ".py",
   "mimetype": "text/x-python",
   "name": "python",
   "nbconvert_exporter": "python",
   "pygments_lexer": "ipython3",
   "version": "3.9.13"
  }
 },
 "nbformat": 4,
 "nbformat_minor": 5
}
