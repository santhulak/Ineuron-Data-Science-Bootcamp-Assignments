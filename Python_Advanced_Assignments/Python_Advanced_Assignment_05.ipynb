{
 "cells": [
  {
   "cell_type": "markdown",
   "id": "1efd1df3",
   "metadata": {},
   "source": [
    "Q1. What is the meaning of multiple inheritance?\n",
    "\n"
   ]
  },
  {
   "cell_type": "markdown",
   "id": "74d4afcb",
   "metadata": {},
   "source": [
    "Multiple inheritance is a feature in object-oriented programming languages that allows a class to inherit properties and behavior from more than one parent class. In other words, a subclass can have more than one superclass, and it inherits the attributes and methods of all its superclasses. Multiple inheritance can be useful for creating complex class hierarchies and for reusing code from multiple sources. "
   ]
  },
  {
   "cell_type": "markdown",
   "id": "8e5f8a3d",
   "metadata": {},
   "source": [
    "\n",
    "\n",
    "Q2. What is the concept of delegation?\n",
    "\n",
    "\n",
    "\n"
   ]
  },
  {
   "cell_type": "markdown",
   "id": "233df2b4",
   "metadata": {},
   "source": [
    "In object-oriented programming, delegation is a mechanism where an object forwards a task to another object that is responsible for performing the task. The delegating object holds a reference to the delegate object and simply calls its methods when necessary.\n",
    "\n"
   ]
  },
  {
   "cell_type": "markdown",
   "id": "36c6dea4",
   "metadata": {},
   "source": [
    "\n",
    "Q3. What is the concept of composition?\n",
    "\n",
    "\n"
   ]
  },
  {
   "cell_type": "markdown",
   "id": "6afe1aee",
   "metadata": {},
   "source": [
    "Composition is a way of building complex objects by combining simpler objects or components. In object-oriented programming, it is a design technique where a class is made up of objects of other classes, rather than inheriting functionality through inheritance relationships. Composition differs from inheritance in that it provides more dynamic relationships between objects, as the component objects can be modified or replaced at runtime."
   ]
  },
  {
   "cell_type": "markdown",
   "id": "779e53ce",
   "metadata": {},
   "source": [
    "\n",
    "Q4. What are bound methods and how do we use them?\n",
    "\n",
    "\n"
   ]
  },
  {
   "cell_type": "markdown",
   "id": "7a27bbe3",
   "metadata": {},
   "source": [
    " Bound method is a method that is bound to an instance of a class. When you call a method on an instance of a class, Python automatically passes the instance to the method as the first argument (self). The method then operates on that instance."
   ]
  },
  {
   "cell_type": "markdown",
   "id": "1b7c47aa",
   "metadata": {},
   "source": [
    "\n",
    "Q5. What is the purpose of pseudoprivate attributes?"
   ]
  },
  {
   "cell_type": "markdown",
   "id": "c106625f",
   "metadata": {},
   "source": [
    "Pseudoprivate attributes in Python are used to create private attributes that can be accessed from within the class and its instances, but not from outside the class. The purpose of using pseudoprivate attributes is to prevent accidental modification of important attributes by other parts of the program that are not intended to access them."
   ]
  }
 ],
 "metadata": {
  "kernelspec": {
   "display_name": "Python 3 (ipykernel)",
   "language": "python",
   "name": "python3"
  },
  "language_info": {
   "codemirror_mode": {
    "name": "ipython",
    "version": 3
   },
   "file_extension": ".py",
   "mimetype": "text/x-python",
   "name": "python",
   "nbconvert_exporter": "python",
   "pygments_lexer": "ipython3",
   "version": "3.9.13"
  }
 },
 "nbformat": 4,
 "nbformat_minor": 5
}
