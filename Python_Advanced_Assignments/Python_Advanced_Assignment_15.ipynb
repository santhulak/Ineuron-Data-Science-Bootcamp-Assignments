{
 "cells": [
  {
   "cell_type": "markdown",
   "id": "13c85b38",
   "metadata": {},
   "source": [
    "1.\tWhat are the new features added in Python 3.8 version?\n",
    "\n"
   ]
  },
  {
   "cell_type": "markdown",
   "id": "6d497d85",
   "metadata": {},
   "source": [
    "Some of the new features added in Python 3.8 version are:\n",
    "\n",
    "Assignment Expressions (the Walrus operator): It allows you to assign values to variables within an expression.\n",
    "\n",
    "Positional-only parameters: Parameters can now be specified as positional-only, meaning they can only be passed by position and not by keyword.\n",
    "\n",
    "f-Strings support for =: f-strings now support = to help debug expressions.\n",
    "\n",
    "Reversible dictionaries: The built-in dict type now maintains the order of items added to it, making it reversible.\n",
    "\n",
    "Syntax for Variable Annotations: A new syntax has been added to allow you to annotate variable types.\n",
    "\n",
    "New Modules: Some new modules were added, including the importlib.metadata module for accessing distribution metadata, the typing. Annotated module for adding type hints to existing code, and the asyncio.run() function for running asyncio event loops.\n",
    "\n",
    "Performance Improvements: Various performance improvements were made, including optimized dictionary access, faster bytecode interpretation, and faster list sorting."
   ]
  },
  {
   "cell_type": "markdown",
   "id": "74f6fb4b",
   "metadata": {},
   "source": [
    "2.\tWhat is monkey patching in Python?\n"
   ]
  },
  {
   "cell_type": "markdown",
   "id": "f3996e69",
   "metadata": {},
   "source": [
    "Monkey patching is a technique in Python that allows developers to dynamically modify or extend the behavior of a module, class, method, or function at runtime. This is achieved by replacing, adding, or deleting attributes or methods of an object during runtime. Monkey patching can be useful for debugging, testing, and prototyping, as well as for implementing temporary workarounds or patches for third-party code. "
   ]
  },
  {
   "cell_type": "markdown",
   "id": "1a99fc61",
   "metadata": {},
   "source": [
    "3.\tWhat is the difference between a shallow copy and deep copy?\n"
   ]
  },
  {
   "cell_type": "markdown",
   "id": "46eceb5f",
   "metadata": {},
   "source": [
    "In Python, a shallow copy creates a new object that points to the same memory location as the original object. Changes made to the new object will be reflected in the original object as well.\n",
    "\n",
    "On the other hand, a deep copy creates a new object and recursively copies all objects found in the original object. This means that changes made to the new object will not affect the original object."
   ]
  },
  {
   "cell_type": "markdown",
   "id": "26b7d988",
   "metadata": {},
   "source": [
    "4.\tWhat is the maximum possible length of an identifier?\n"
   ]
  },
  {
   "cell_type": "markdown",
   "id": "6ecef341",
   "metadata": {},
   "source": [
    "In Python, the maximum possible length of an identifier is not explicitly defined. However, it is generally recommended to keep identifiers reasonably short and descriptive. In practice, most identifiers will be much shorter than the maximum allowed length, which is likely to be limited only by available memory."
   ]
  },
  {
   "cell_type": "markdown",
   "id": "04646864",
   "metadata": {},
   "source": [
    "5.\tWhat is generator comprehension?"
   ]
  },
  {
   "cell_type": "markdown",
   "id": "600aca31",
   "metadata": {},
   "source": [
    "Generator comprehension is a concise way of creating a generator in Python. It is similar to list comprehension but instead of creating a list, it creates a generator object which can be used to generate values on the fly, thus saving memory."
   ]
  }
 ],
 "metadata": {
  "kernelspec": {
   "display_name": "Python 3 (ipykernel)",
   "language": "python",
   "name": "python3"
  },
  "language_info": {
   "codemirror_mode": {
    "name": "ipython",
    "version": 3
   },
   "file_extension": ".py",
   "mimetype": "text/x-python",
   "name": "python",
   "nbconvert_exporter": "python",
   "pygments_lexer": "ipython3",
   "version": "3.9.13"
  }
 },
 "nbformat": 4,
 "nbformat_minor": 5
}
