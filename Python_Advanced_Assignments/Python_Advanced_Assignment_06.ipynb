{
 "cells": [
  {
   "cell_type": "markdown",
   "id": "56949b86",
   "metadata": {},
   "source": [
    "Q1. Describe three applications for exception processing.\n",
    "\n",
    "\n",
    "\n",
    "\n"
   ]
  },
  {
   "cell_type": "markdown",
   "id": "ec24d398",
   "metadata": {},
   "source": [
    "Exception processing is a technique used in programming to handle unexpected events that may occur during program execution. Here are three common applications for exception processing:\n",
    "\n",
    "Error handling: Exceptions can be used to catch errors and handle them gracefully. For example, if a program is trying to open a file that doesn't exist, an exception can be raised to alert the programmer to the error and allow them to take appropriate action.\n",
    "\n",
    "Input validation: Exceptions can be used to validate user input and prevent program crashes or incorrect behavior. For example, if a program is expecting a numeric input, an exception can be raised if the user enters a non-numeric value.\n",
    "\n",
    "Resource management: Exceptions can be used to manage system resources, such as file handles or network connections. For example, if a program is unable to acquire a necessary resource, an exception can be raised to prevent the program from continuing in an invalid state. Additionally, exceptions can be used to ensure that resources are released properly, even in the event of an error."
   ]
  },
  {
   "cell_type": "markdown",
   "id": "09e9eb01",
   "metadata": {},
   "source": [
    "Q2. What happens if you don't do something extra to treat an exception?\n",
    "\n",
    "\n"
   ]
  },
  {
   "cell_type": "markdown",
   "id": "11909960",
   "metadata": {},
   "source": [
    "If an exception is not handled or treated in some way, the program will terminate abruptly and an error message will be displayed, indicating the type of exception that occurred and the location in the code where it happened. This is known as an \"unhandled exception\" or \"runtime error\"."
   ]
  },
  {
   "cell_type": "markdown",
   "id": "8241eaf9",
   "metadata": {},
   "source": [
    "\n",
    "Q3. What are your options for recovering from an exception in your script?\n",
    "\n",
    "\n",
    "\n"
   ]
  },
  {
   "cell_type": "markdown",
   "id": "d72ff994",
   "metadata": {},
   "source": [
    "When an exception is raised in a script, the program terminates, and control is transferred to the exception handler. \n",
    "There are several ways to handle exceptions in Python:\n",
    "\n",
    "Ignore the exception: In some cases, you may choose to ignore the exception and continue with the program. This is usually not recommended because it can lead to unexpected behavior and errors later on.\n",
    "\n",
    "Handle the exception: You can catch and handle the exception using a try-except block. The try block contains the code that might raise an exception, and the except block contains the code that handles the exception. You can also specify the type of exception to catch, or catch all exceptions using the except keyword without any arguments.\n",
    "\n",
    "Raise a new exception: You can raise a new exception in response to the original exception, using the raise keyword. This can be useful if you need to provide more information about the error or if you want to convert one type of exception into another."
   ]
  },
  {
   "cell_type": "markdown",
   "id": "0455e9db",
   "metadata": {},
   "source": [
    "Q4. Describe two methods for triggering exceptions in your script.\n",
    "\n",
    "\n",
    "\n"
   ]
  },
  {
   "cell_type": "markdown",
   "id": "9947eb21",
   "metadata": {},
   "source": [
    "There are several ways to trigger exceptions in a Python script:\n",
    "\n",
    "- Raise an exception explicitly using the raise keyword followed by the exception type and an optional error message.\n",
    "- Use built-in functions that raise exceptions under certain conditions.\n"
   ]
  },
  {
   "cell_type": "markdown",
   "id": "022d06a6",
   "metadata": {},
   "source": [
    "Q5. Identify two methods for specifying actions to be executed at termination time, regardless of whether or not an exception exists."
   ]
  },
  {
   "cell_type": "markdown",
   "id": "30ad3ad5",
   "metadata": {},
   "source": [
    "In Python, we can specify actions to be executed at termination time, regardless of whether or not an exception exists, by using the following two methods:\n",
    "\n",
    "try-finally block: We can use a try-finally block to ensure that certain code is always executed, even if an exception is raised. The code in the finally block will always be executed, regardless of whether or not an exception is raised. \n",
    "\n",
    "atexit module: We can use the atexit module to register functions that should be called when the script terminates. These functions will be called regardless of whether or not an exception is raised."
   ]
  }
 ],
 "metadata": {
  "kernelspec": {
   "display_name": "Python 3 (ipykernel)",
   "language": "python",
   "name": "python3"
  },
  "language_info": {
   "codemirror_mode": {
    "name": "ipython",
    "version": 3
   },
   "file_extension": ".py",
   "mimetype": "text/x-python",
   "name": "python",
   "nbconvert_exporter": "python",
   "pygments_lexer": "ipython3",
   "version": "3.9.13"
  }
 },
 "nbformat": 4,
 "nbformat_minor": 5
}
