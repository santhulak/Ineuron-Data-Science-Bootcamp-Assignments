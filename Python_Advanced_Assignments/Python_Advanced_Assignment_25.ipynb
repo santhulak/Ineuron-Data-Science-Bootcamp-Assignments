{
 "cells": [
  {
   "cell_type": "markdown",
   "id": "d854c306",
   "metadata": {},
   "source": [
    "Q1. What is the distinction between a numpy array and a pandas data frame? Is there a way to convert between the two if there is?\n",
    "\n",
    "\n",
    "\n"
   ]
  },
  {
   "cell_type": "markdown",
   "id": "7e3e7254",
   "metadata": {},
   "source": [
    "A NumPy array is a homogenous data structure that consists of a grid of values that are all of the same data type. It can be used to store and manipulate large, multidimensional arrays and matrices. NumPy arrays are designed for numerical computations and can perform mathematical operations on entire arrays quickly and efficiently. \n",
    "\n",
    "On the other hand, a pandas DataFrame is a tabular data structure that allows for data to be manipulated and analysed easily. It is a two-dimensional size-mutable, tabular data structure with labelled axes (rows and columns).Pandas DataFrames are designed for data manipulation and analysis, with a wide range of functions for data cleaning, reshaping, and summarizing.\n",
    "\n",
    "It is possible to convert a pandas DataFrame to a NumPy array using the values attribute of the DataFrame, and it is also possible to create a pandas DataFrame from a NumPy array using the DataFrame() constructor of pandas. "
   ]
  },
  {
   "cell_type": "markdown",
   "id": "82d1d590",
   "metadata": {},
   "source": [
    "Q2. What can go wrong when an user enters in a stock-ticker symbol, and how do you handle it?\n",
    "\n",
    "\n",
    "\n"
   ]
  },
  {
   "cell_type": "markdown",
   "id": "2a520043",
   "metadata": {},
   "source": [
    "There are several issues that can arise when a user enters a stock-ticker symbol, including:\n",
    "\n",
    "Incorrect symbol: The user might input an incorrect symbol, or one that doesn't exist in the database. This can lead to errors when trying to fetch data or perform analysis on the data.\n",
    "\n",
    "Missing data: Some stocks might not have complete data, which can cause problems when trying to compute metrics or visualise the data.\n",
    "\n",
    "Outdated data: Stock data can be updated frequently, so it's important to ensure that the data being used is up-to-date.\n",
    "\n",
    "To handle these issues, some strategies that can be employed include:\n",
    "\n",
    "Input validation: Validate the input from the user to ensure that the symbol is correct and exists in the database.\n",
    "\n",
    "Error handling: Handle errors gracefully by displaying helpful error messages to the user, or automatically retrying the request if there is an issue.\n",
    "\n",
    "Data cleaning: Clean the data to ensure that it is complete and up-to-date. This may involve removing incomplete data or updating the data source.\n",
    "\n",
    "Visualisation: Use visualisation techniques to help identify any anomalies or issues in the data."
   ]
  },
  {
   "cell_type": "markdown",
   "id": "aebc9f77",
   "metadata": {},
   "source": [
    "\n",
    "Q3. Identify some of the plotting techniques that are used to produce a stock-market chart.\n",
    "\n",
    "\n",
    "\n"
   ]
  },
  {
   "cell_type": "markdown",
   "id": "eb693489",
   "metadata": {},
   "source": [
    "Some of the plotting techniques that are commonly used to produce a stock-market chart include:\n",
    "\n",
    "Line plot: A simple line plot can be used to plot the closing prices of a stock over a given period of time.\n",
    "\n",
    "Candlestick plot: A candlestick plot is a popular technique that shows the opening, closing, high, and low prices of a stock over a given period of time.\n",
    "\n",
    "Bar plot: A bar plot can be used to show the price changes of a stock over a given period of time. The height of each bar represents the price change.\n",
    "\n",
    "Area plot: An area plot can be used to show the overall trend of a stock over a given period of time.\n",
    "\n",
    "Scatter plot: A scatter plot can be used to show the relationship between two variables, such as the price of a stock and the volume of shares traded.\n",
    "\n",
    "Heatmap: A heatmap can be used to show the correlation between different stocks or the performance of different sectors over a given period of time.\n",
    "\n",
    "Box plot: A box plot can be used to show the distribution of a stock's prices over a given period of time, including the median, quartiles, and outliers."
   ]
  },
  {
   "cell_type": "markdown",
   "id": "9f972003",
   "metadata": {},
   "source": [
    "Q4. Why is it essential to print a legend on a stock market chart?\n",
    "\n",
    "\n",
    "\n"
   ]
  },
  {
   "cell_type": "markdown",
   "id": "1ec9ec65",
   "metadata": {},
   "source": [
    "By default, each plot of a Stock chart has a legend, its items representing the series on the plot. In addition, the legend displays information about the points that are currently hovered over or, if none are hovered over, the last points shown on the plot."
   ]
  },
  {
   "cell_type": "markdown",
   "id": "6539d4b9",
   "metadata": {},
   "source": [
    "Q5. What is the best way to limit the length of a pandas data frame to less than a year?\n",
    "\n",
    "\n",
    "\n"
   ]
  },
  {
   "cell_type": "markdown",
   "id": "81e4de4d",
   "metadata": {},
   "source": [
    "There are two main ways to reduce DataFrame memory size in Pandas without necessarily compromising the information contained within the DataFrame:\n",
    "\n",
    "- Use smaller numeric types.\n",
    "- Convert object columns to categorical columns."
   ]
  },
  {
   "cell_type": "markdown",
   "id": "53bc35a7",
   "metadata": {},
   "source": [
    "Q6. What is the definition of a 180-day moving average?\n",
    "\n",
    "\n",
    "\n"
   ]
  },
  {
   "cell_type": "markdown",
   "id": "a1eef538",
   "metadata": {},
   "source": [
    "The 180-day moving average shows the average price of a stock or other asset over the past 180 days. "
   ]
  },
  {
   "cell_type": "markdown",
   "id": "1f19cb45",
   "metadata": {},
   "source": [
    "Q7. Did the chapter's final example use \"indirect\" importing? If so, how exactly do you do it?"
   ]
  },
  {
   "cell_type": "markdown",
   "id": "2f9296e7",
   "metadata": {},
   "source": [
    "Unlike explicit imports that throw an error at application startup, indirect imports in Python throw them when they are actually used. Excessively permissive except clauses can hide them and result in unexpected behavior.\n",
    "\n",
    "In Indirect Exporting/Importing, a firm deals with the customer/supplier with the help of middlemen. They do not directly deal with the customers/suppliers. With the help of middlemen, most of the formalities and work are done, such as export houses or purchasing businesses or offices of overseas customers, or wholesale importers in the case of import operations."
   ]
  }
 ],
 "metadata": {
  "kernelspec": {
   "display_name": "Python 3 (ipykernel)",
   "language": "python",
   "name": "python3"
  },
  "language_info": {
   "codemirror_mode": {
    "name": "ipython",
    "version": 3
   },
   "file_extension": ".py",
   "mimetype": "text/x-python",
   "name": "python",
   "nbconvert_exporter": "python",
   "pygments_lexer": "ipython3",
   "version": "3.9.13"
  }
 },
 "nbformat": 4,
 "nbformat_minor": 5
}
