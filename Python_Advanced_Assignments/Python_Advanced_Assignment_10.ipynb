{
 "cells": [
  {
   "cell_type": "markdown",
   "id": "8fe5b354",
   "metadata": {},
   "source": [
    "Q1. What is the difference between __getattr__ and __getattribute__?\n",
    "\n",
    "\n",
    "\n",
    "\n"
   ]
  },
  {
   "cell_type": "markdown",
   "id": "ac200531",
   "metadata": {},
   "source": [
    "Both __getattr__ and __getattribute__ are Python's methods to intercept attribute access in classes. __getattr__ is called only when an attribute is missing, while __getattribute__ is called for every attribute access. "
   ]
  },
  {
   "cell_type": "markdown",
   "id": "15f3bdcb",
   "metadata": {},
   "source": [
    "Q2. What is the difference between properties and descriptors?\n",
    "\n",
    "\n"
   ]
  },
  {
   "cell_type": "markdown",
   "id": "ef7ea0bc",
   "metadata": {},
   "source": [
    "Properties are a simple way to compute the value of an attribute on the fly, without the need for a separate method call. They are defined by creating a method with the same name as the attribute, and then decorating it with the @property decorator. When the attribute is accessed, the method is called automatically, and its return value is used as the value of the attribute.\n",
    "\n",
    "Descriptors are more powerful than properties, but also more complex. They allow you to define a class that controls the behavior of an attribute, by defining methods that handle the attribute's get, set, and delete operations. Descriptors are created by defining a class with one or more of the special methods get, set, and delete, and then using an instance of that class as an attribute of another class. When the attribute is accessed, its get, set, or delete method is called automatically, and it can perform any computation or validation necessary to implement the attribute's behavior. Descriptors are often used to implement custom data types, such as numerical types with range constraints or string types with format constraints."
   ]
  },
  {
   "cell_type": "markdown",
   "id": "da67b28b",
   "metadata": {},
   "source": [
    "\n",
    "Q3. What are the key differences in functionality between __getattr__ and __getattribute__, as well as properties and descriptors?"
   ]
  },
  {
   "cell_type": "markdown",
   "id": "074b1c7e",
   "metadata": {},
   "source": [
    "__getattr__ and __getattribute__ are both methods that get called when an attribute is not found in an object. However, there is a difference in when they are called. __getattr__ is only called when the attribute is not found in the instance's dictionary, whereas __getattribute__ is called for every attribute access, regardless of whether it is found in the instance's dictionary or not.\n",
    "\n",
    "Properties and descriptors are both ways of customizing attribute access. A property is a way of defining a method that can be accessed like an attribute. When an instance attribute is accessed with the same name as a property, the property's method is called instead of the attribute's value. A descriptor is an object that defines the __get__, __set__, and/or __delete__ methods, which are called when the descriptor is accessed as an attribute of an object. Descriptors are more flexible than properties because they can be used to define attributes that have custom behavior for both getting and setting values, while properties only define custom behavior for getting values."
   ]
  }
 ],
 "metadata": {
  "kernelspec": {
   "display_name": "Python 3 (ipykernel)",
   "language": "python",
   "name": "python3"
  },
  "language_info": {
   "codemirror_mode": {
    "name": "ipython",
    "version": 3
   },
   "file_extension": ".py",
   "mimetype": "text/x-python",
   "name": "python",
   "nbconvert_exporter": "python",
   "pygments_lexer": "ipython3",
   "version": "3.9.13"
  }
 },
 "nbformat": 4,
 "nbformat_minor": 5
}
