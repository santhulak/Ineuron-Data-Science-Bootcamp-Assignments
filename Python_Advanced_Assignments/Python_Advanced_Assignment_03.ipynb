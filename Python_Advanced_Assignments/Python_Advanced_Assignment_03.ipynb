{
 "cells": [
  {
   "cell_type": "markdown",
   "id": "0ee98958",
   "metadata": {},
   "source": [
    "1. What is the concept of an abstract superclass?\n",
    "\n",
    "\n"
   ]
  },
  {
   "cell_type": "markdown",
   "id": "2331d247",
   "metadata": {},
   "source": [
    "An abstract superclass is a class that is designed to be inherited from, but not instantiated directly. It defines a set of methods and properties that any concrete subclass must implement. Abstract superclasses are typically used to define a common interface for a group of related classes."
   ]
  },
  {
   "cell_type": "markdown",
   "id": "17b7708f",
   "metadata": {},
   "source": [
    "\n",
    "\n",
    "2. What happens when a class statement's top level contains a basic assignment statement?\n",
    "\n"
   ]
  },
  {
   "cell_type": "markdown",
   "id": "11928f1a",
   "metadata": {},
   "source": [
    "In Python, when a class statement's top level contains a basic assignment statement, the assigned value becomes a class attribute. This means that the attribute is shared by all instances of the class and can be accessed using either the class name or an instance of the class"
   ]
  },
  {
   "cell_type": "markdown",
   "id": "8f51e0ba",
   "metadata": {},
   "source": [
    "\n",
    "\n",
    "3. Why does a class need to manually call a superclass's __init__ method?\n",
    "\n"
   ]
  },
  {
   "cell_type": "markdown",
   "id": "3a5d7c58",
   "metadata": {},
   "source": [
    "When a subclass is created, it may need to inherit attributes and methods from its superclass. In Python, a subclass's __init__ method doesn't automatically call its superclass's __init__ method, so if a superclass has any necessary initialization code that needs to be run before the subclass is created, the subclass needs to explicitly call the superclass's __init__ method. This ensures that the subclass has all the necessary attributes and methods inherited from the superclass, and that the superclass's initialization code is properly executed."
   ]
  },
  {
   "cell_type": "markdown",
   "id": "2fa1bfdb",
   "metadata": {},
   "source": [
    "\n",
    "\n",
    "4. How can you augment, instead of completely replacing, an inherited method?\n",
    "\n"
   ]
  },
  {
   "cell_type": "markdown",
   "id": "d80e2c55",
   "metadata": {},
   "source": [
    "In Python, you can augment, or override parts of, an inherited method by calling the superclass's method explicitly with the super() function. "
   ]
  },
  {
   "cell_type": "markdown",
   "id": "ccc1b4c6",
   "metadata": {},
   "source": [
    "\n",
    "\n",
    "5. How is the local scope of a class different from that of a function?"
   ]
  },
  {
   "cell_type": "markdown",
   "id": "7e179eaa",
   "metadata": {},
   "source": [
    "In Python, a class creates a new namespace, which acts as a local scope for the class. This namespace contains the names of the attributes and methods defined within the class. The local scope of a function, on the other hand, is created when the function is called and is destroyed when the function returns. The local scope of a function contains the names of the variables and parameters defined within the function."
   ]
  }
 ],
 "metadata": {
  "kernelspec": {
   "display_name": "Python 3 (ipykernel)",
   "language": "python",
   "name": "python3"
  },
  "language_info": {
   "codemirror_mode": {
    "name": "ipython",
    "version": 3
   },
   "file_extension": ".py",
   "mimetype": "text/x-python",
   "name": "python",
   "nbconvert_exporter": "python",
   "pygments_lexer": "ipython3",
   "version": "3.9.13"
  }
 },
 "nbformat": 4,
 "nbformat_minor": 5
}
