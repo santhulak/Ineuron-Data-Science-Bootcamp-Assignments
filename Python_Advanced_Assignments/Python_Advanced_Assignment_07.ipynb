{
 "cells": [
  {
   "cell_type": "markdown",
   "id": "c5b92f91",
   "metadata": {},
   "source": [
    "Q1. What is the purpose of the try statement?\n",
    "\n",
    "\n",
    "\n",
    "\n"
   ]
  },
  {
   "cell_type": "markdown",
   "id": "b25e7b16",
   "metadata": {},
   "source": [
    "The try statement in Python is used for exception handling. It allows you to specify a block of code to be tested for exceptions while it is being executed, and provides a mechanism to handle those exceptions gracefully instead of having your program crash."
   ]
  },
  {
   "cell_type": "markdown",
   "id": "13c23856",
   "metadata": {},
   "source": [
    "Q2. What are the two most popular try statement variations?\n",
    "\n",
    "\n"
   ]
  },
  {
   "cell_type": "markdown",
   "id": "7291a50e",
   "metadata": {},
   "source": [
    "The two most popular try statement variations are:\n",
    "\n",
    "try-except: This variation is used to catch and handle exceptions that occur in the try block. If an exception is raised, it is caught by the except block, and the specified code in the except block is executed.\n",
    "\n",
    "try-finally: This variation is used to ensure that a block of code is always executed, regardless of whether an exception occurs or not. The finally block is executed after the try block and any except blocks, regardless of whether an exception occurred or not."
   ]
  },
  {
   "cell_type": "markdown",
   "id": "4ef79238",
   "metadata": {},
   "source": [
    "\n",
    "Q3. What is the purpose of the raise statement?\n",
    "\n",
    "\n",
    "\n"
   ]
  },
  {
   "cell_type": "markdown",
   "id": "495e76f7",
   "metadata": {},
   "source": [
    "The raise statement in Python is used to raise an exception explicitly. It is typically used when you want to handle an error condition or exception that is not automatically handled by Python's default exception handling mechanism."
   ]
  },
  {
   "cell_type": "markdown",
   "id": "527eef72",
   "metadata": {},
   "source": [
    "Q4. What does the assert statement do, and what other statement is it like?\n",
    "\n",
    "\n",
    "\n"
   ]
  },
  {
   "cell_type": "markdown",
   "id": "6759d34b",
   "metadata": {},
   "source": [
    "The assert statement in Python is used to assert that a certain condition is true, and if it is not true, an exception is raised.\n",
    "\n",
    "The assert statement is similar to the if statement in that it tests a condition and takes action based on whether the condition is true or false. However, the assert statement is used specifically for debugging purposes, whereas the if statement is used for conditional branching in the program logic."
   ]
  },
  {
   "cell_type": "markdown",
   "id": "f844c1a0",
   "metadata": {},
   "source": [
    "Q5. What is the purpose of the with/as argument, and what other statement is it like?"
   ]
  },
  {
   "cell_type": "markdown",
   "id": "71081ade",
   "metadata": {},
   "source": [
    "The with/as statement is used for context management in Python. It is typically used for operations that require setup and cleanup code, such as working with files or databases. The with statement ensures that the setup code is executed before the block of code within the with statement, and the cleanup code is executed after the block of code has completed, even if an exception is raised."
   ]
  }
 ],
 "metadata": {
  "kernelspec": {
   "display_name": "Python 3 (ipykernel)",
   "language": "python",
   "name": "python3"
  },
  "language_info": {
   "codemirror_mode": {
    "name": "ipython",
    "version": 3
   },
   "file_extension": ".py",
   "mimetype": "text/x-python",
   "name": "python",
   "nbconvert_exporter": "python",
   "pygments_lexer": "ipython3",
   "version": "3.9.13"
  }
 },
 "nbformat": 4,
 "nbformat_minor": 5
}
