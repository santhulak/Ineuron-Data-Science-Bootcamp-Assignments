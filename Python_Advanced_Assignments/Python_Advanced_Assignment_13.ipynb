{
 "cells": [
  {
   "cell_type": "markdown",
   "id": "1583052d",
   "metadata": {},
   "source": [
    "Q1. Can you create a programme or function that employs both positive and negative indexing? Is there any repercussion if you do so?\n",
    "\n",
    "\n",
    "\n"
   ]
  },
  {
   "cell_type": "markdown",
   "id": "54076783",
   "metadata": {},
   "source": [
    "An example of a program that uses both positive and negative indexing to access elements in a list\n",
    "\n",
    "\n",
    "<cite>\n",
    "lst = [1, 2, 3, 4, 5]\n",
    "\n",
    "print(lst[0])   \n",
    "\n",
    "print(lst[-1])  \n",
    "\n",
    "print(lst[-2])    \n",
    "\n",
    "</cite>\n",
    "\n",
    "Using both positive and negative indexing in a program or function is not inherently problematic or dangerous, but it can make the code less readable and harder to understand for someone else who is reading your code.\n",
    "\n",
    "It's important to use positive and negative indexing judiciously and only when it makes the code more readable and efficient. Overuse of negative indexing can make the code more confusing and harder to follow.\n"
   ]
  },
  {
   "cell_type": "markdown",
   "id": "68c8af9e",
   "metadata": {},
   "source": [
    "Q2. What is the most effective way of starting with 1,000 elements in a Python list? Assume that all elements should be set to the same value.\n",
    "\n",
    "\n",
    "\n"
   ]
  },
  {
   "cell_type": "markdown",
   "id": "19e084a3",
   "metadata": {},
   "source": [
    "The most effective way of starting with 1,000 elements in a Python list, all set to the same value, is to use the multiplication operator (*) to create a new list with the desired number of elements, and then fill each element with the same value using a list comprehension."
   ]
  },
  {
   "cell_type": "markdown",
   "id": "0539a3b4",
   "metadata": {},
   "source": [
    "Q3. How do you slice a list to get any other part while missing the rest? (For example, suppose you want to make a new list with the elements first, third, fifth, seventh, and so on.)\n",
    "\n",
    "\n",
    "To slice a list and get every other element starting from a particular index, you can use slice notation with a step size of 2. \n"
   ]
  },
  {
   "cell_type": "code",
   "execution_count": 3,
   "id": "dc3086f2",
   "metadata": {},
   "outputs": [
    {
     "name": "stdout",
     "output_type": "stream",
     "text": [
      "[1, 3, 5, 7, 9]\n"
     ]
    }
   ],
   "source": [
    "my_list = [1, 2, 3, 4, 5, 6, 7, 8, 9, 10]\n",
    "new_list = my_list[0::2]  # Get every other element starting from index 0\n",
    "\n",
    "print(new_list)\n",
    "\n"
   ]
  },
  {
   "cell_type": "markdown",
   "id": "542a1819",
   "metadata": {},
   "source": [
    "Q4. Explain the distinctions between indexing and slicing.\n",
    "\n",
    "\n",
    "\n"
   ]
  },
  {
   "cell_type": "markdown",
   "id": "4ba45e10",
   "metadata": {},
   "source": [
    "Indexing and slicing are two different ways to access elements in a Python sequence (like a list, tuple, or string).\n",
    "\n",
    "Indexing is the process of accessing a single element of the sequence at a particular position (index). In Python, indexing starts at 0 for the first element, and negative indexing is used to access elements from the end of the sequence.\n",
    "\n",
    "Slicing, on the other hand, is the process of accessing a portion (or slice) of the sequence. Slicing returns a new sequence containing the selected portion of the original sequence. Slicing uses a colon (:) to specify a range of indices to include in the slice."
   ]
  },
  {
   "cell_type": "markdown",
   "id": "cbacee21",
   "metadata": {},
   "source": [
    "Q5. What happens if one of the slicing expression's indexes is out of range?\n",
    "\n",
    "If one of the slicing expression's indexes is out of range, Python will not raise an error, but will simply adjust the index to the nearest valid value. For example, if you try to slice a list with an ending index that is larger than the length of the list, Python will simply return a slice of the list up to the last element\n",
    "\n"
   ]
  },
  {
   "cell_type": "code",
   "execution_count": 4,
   "id": "5484a4a3",
   "metadata": {},
   "outputs": [
    {
     "name": "stdout",
     "output_type": "stream",
     "text": [
      "[3, 4, 5]\n"
     ]
    }
   ],
   "source": [
    "my_list = [1, 2, 3, 4, 5]\n",
    "my_slice = my_list[2:10]\n",
    "print(my_slice)\n"
   ]
  },
  {
   "cell_type": "markdown",
   "id": "c9247b62",
   "metadata": {},
   "source": [
    "Q6. If you pass a list to a function, and if you want the function to be able to change the values of the list—so that the list is different after the function returns—what action should you avoid?\n",
    "\n",
    "\n",
    "\n"
   ]
  },
  {
   "cell_type": "markdown",
   "id": "079008c3",
   "metadata": {},
   "source": [
    "If you want the function to be able to change the values of the list, you should avoid creating a new list inside the function with the same name as the original list, as this will not affect the original list outside the function. Instead, you should modify the original list directly using its index or slice notation or by using methods that modify the list in place, such as append(), remove(), sort(), etc."
   ]
  },
  {
   "cell_type": "markdown",
   "id": "d4ec8c20",
   "metadata": {},
   "source": [
    "Q7. What is the concept of an unbalanced matrix?\n",
    "\n"
   ]
  },
  {
   "cell_type": "markdown",
   "id": "afde430c",
   "metadata": {},
   "source": [
    "An unbalanced matrix is a matrix that has a different number of rows than columns or vice versa. This means that the matrix is not a square matrix. In an unbalanced matrix, some operations, such as matrix multiplication, may not be possible or may yield unexpected results, as the dimensions of the matrices involved must match. For example, if matrix A has dimensions 3x2 and matrix B has dimensions 2x3, matrix multiplication AB is possible and will result in a 3x3 matrix. However, if matrix C has dimensions 3x4, matrix multiplication AC or CA is not possible, as the number of columns of matrix A (2) does not match the number of rows of matrix C (3). In general, it is important to pay attention to the dimensions of matrices when performing matrix operations to ensure that they are compatible."
   ]
  },
  {
   "cell_type": "markdown",
   "id": "940964ed",
   "metadata": {},
   "source": [
    "\n",
    "\n",
    "Q8. Why is it necessary to use either list comprehension or a loop to create arbitrarily large matrices?"
   ]
  },
  {
   "cell_type": "markdown",
   "id": "777930a4",
   "metadata": {},
   "source": [
    "It is necessary to use either list comprehension or a loop to create arbitrarily large matrices because matrices are essentially nested lists, where each element of the list is a row of the matrix. In Python, a list can be created using list comprehension, which is a concise and efficient way of creating a list by iterating over a sequence or another iterable object. When creating an arbitrarily large matrix, the number of rows and columns can be very large, making it impractical to create the matrix manually or using a fixed number of variables. "
   ]
  }
 ],
 "metadata": {
  "kernelspec": {
   "display_name": "Python 3 (ipykernel)",
   "language": "python",
   "name": "python3"
  },
  "language_info": {
   "codemirror_mode": {
    "name": "ipython",
    "version": 3
   },
   "file_extension": ".py",
   "mimetype": "text/x-python",
   "name": "python",
   "nbconvert_exporter": "python",
   "pygments_lexer": "ipython3",
   "version": "3.9.13"
  }
 },
 "nbformat": 4,
 "nbformat_minor": 5
}
