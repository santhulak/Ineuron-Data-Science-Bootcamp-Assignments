{
 "cells": [
  {
   "cell_type": "markdown",
   "id": "fb8537f5",
   "metadata": {},
   "source": [
    "Q1. What is the benefit of regular expressions?\n",
    "\n",
    "\n",
    "\n",
    "\n",
    "\n"
   ]
  },
  {
   "cell_type": "markdown",
   "id": "e606e7dc",
   "metadata": {},
   "source": [
    "Regular expressions provide a powerful and flexible way to search, match, and manipulate text in Python. They allow you to find patterns in strings, such as searching for specific words or characters, or matching strings that follow a certain format. Regular expressions can also be used for data validation, data cleaning, and data extraction."
   ]
  },
  {
   "cell_type": "markdown",
   "id": "baf714fe",
   "metadata": {},
   "source": [
    "Q2. Describe the difference between the effects of \"(ab)c+\" and \"a(bc)+.\" Which of these, if any, is the unqualified pattern \"abc+\"?\n",
    "\n",
    "\n",
    "\n"
   ]
  },
  {
   "cell_type": "markdown",
   "id": "599b8d4b",
   "metadata": {},
   "source": [
    "The regular expressions \"(ab)c+\" and \"a(bc)+\" have different effects, even though they look similar.\n",
    "\n",
    "The pattern \"(ab)c+\" matches a string that has the substring \"ab\" followed by one or more occurrences of the character \"c\". For example, it would match \"abc\", \"abcc\", \"abccc\", and so on.\n",
    "\n",
    "On the other hand, the pattern \"a(bc)+\" matches a string that starts with the character \"a\", followed by one or more occurrences of the substring \"bc\". For example, it would match \"abc\", \"abcbc\", \"abcbcbc\", and so on.\n",
    "\n",
    "The unqualified pattern \"abc+\" matches a string that has the character \"a\", followed by one or more occurrences of the character \"b\", followed by the character \"c\". For example, it would match \"abc\", \"abcc\", \"abccc\", and so on."
   ]
  },
  {
   "cell_type": "markdown",
   "id": "600e7097",
   "metadata": {},
   "source": [
    "\n",
    "Q3. How much do you need to use the following sentence while using regular expressions?\n",
    "\n",
    "\n",
    "\n",
    "import re\n",
    "\n",
    "\n",
    "\n",
    "\n",
    "\n"
   ]
  },
  {
   "cell_type": "markdown",
   "id": "26e30b2b",
   "metadata": {},
   "source": [
    "The import re statement is needed at the beginning of any Python code that uses regular expressions. It imports the Python built-in module re which provides support for regular expressions. Therefore, you need to use this statement whenever you want to use regular expressions in your code."
   ]
  },
  {
   "cell_type": "markdown",
   "id": "0085a2bd",
   "metadata": {},
   "source": [
    "Q4. Which characters have special significance in square brackets when expressing a range, and under what circumstances?\n",
    "\n",
    "\n",
    "\n"
   ]
  },
  {
   "cell_type": "markdown",
   "id": "363e9096",
   "metadata": {},
   "source": [
    "In square brackets, certain characters have special significance when expressing a range in regular expressions. The hyphen (-) character has special significance in square brackets because it denotes a range of characters. For instance, [a-z] represents all lowercase letters from a to z. Other characters in square brackets do not have any special meaning and are interpreted literally. However, if you want to use a character that has a special meaning in a regular expression context, you need to escape it with a backslash () so that it is interpreted literally. For example, to match a literal period (.) in a character set, you would need to write [.]."
   ]
  },
  {
   "cell_type": "markdown",
   "id": "e0a526e2",
   "metadata": {},
   "source": [
    "Q5. How does compiling a regular-expression object benefit you?\n",
    "\n",
    "\n",
    "\n"
   ]
  },
  {
   "cell_type": "markdown",
   "id": "3244dc7a",
   "metadata": {},
   "source": [
    "Compiling a regular-expression object provides two main benefits:\n",
    "\n",
    "Improved performance: Compiling a regular expression object once and reusing it multiple times can improve performance in situations where the same pattern is being matched repeatedly.\n",
    "\n",
    "Improved readability and maintainability: Compiling a regular expression object can improve the readability and maintainability of your code by separating the pattern from the code that uses it. This can make it easier to modify the pattern or reuse it in other parts of your code."
   ]
  },
  {
   "cell_type": "markdown",
   "id": "869e7d54",
   "metadata": {},
   "source": [
    "Q6. What are some examples of how to use the match object returned by re.match and re.search?\n",
    "\n",
    "The re.match and re.search functions return a match object if a pattern is found in the given string. \n",
    "\n"
   ]
  },
  {
   "cell_type": "code",
   "execution_count": 1,
   "id": "cf9a5a4a",
   "metadata": {},
   "outputs": [
    {
     "name": "stdout",
     "output_type": "stream",
     "text": [
      "apple\n"
     ]
    }
   ],
   "source": [
    "#Finding a pattern and printing the matched text\n",
    "import re\n",
    "\n",
    "# Find the word 'apple' in the given text\n",
    "text = 'I have an apple and a banana'\n",
    "match = re.search('apple', text)\n",
    "\n",
    "# Print the matched text\n",
    "if match:\n",
    "    print(match.group())\n",
    "\n",
    "\n",
    "\n"
   ]
  },
  {
   "cell_type": "code",
   "execution_count": 2,
   "id": "50ea2314",
   "metadata": {},
   "outputs": [
    {
     "name": "stdout",
     "output_type": "stream",
     "text": [
      "Date found: 25/04/2023\n"
     ]
    }
   ],
   "source": [
    "#Extracting groups from a pattern using parentheses\n",
    "\n",
    "import re\n",
    "\n",
    "# Find a date in the format dd/mm/yyyy\n",
    "text = 'Today is 25/04/2023'\n",
    "match = re.search('(\\d{2})/(\\d{2})/(\\d{4})', text)\n",
    "\n",
    "# Extract the day, month, and year\n",
    "if match:\n",
    "    day = match.group(1)\n",
    "    month = match.group(2)\n",
    "    year = match.group(3)\n",
    "    print(f'Date found: {day}/{month}/{year}')\n"
   ]
  },
  {
   "cell_type": "markdown",
   "id": "e3999ca8",
   "metadata": {},
   "source": [
    "Q7. What is the difference between using a vertical bar (|) as an alteration and using square brackets as a character set?\n",
    "\n",
    "\n",
    "\n"
   ]
  },
  {
   "cell_type": "markdown",
   "id": "902957db",
   "metadata": {},
   "source": [
    "The vertical bar (|) is used to specify a choice between two or more alternatives. For example, the regular expression \"cat|dog\" matches either \"cat\" or \"dog\". The vertical bar (|) represents a logical OR operation.\n",
    "\n",
    "On the other hand, square brackets ([]) are used to define a character set, which matches any single character from the set. For example, the regular expression \"[aeiou]\" matches any vowel. "
   ]
  },
  {
   "cell_type": "markdown",
   "id": "26e5b9f9",
   "metadata": {},
   "source": [
    "Q8. In regular-expression search patterns, why is it necessary to use the raw-string indicator (r)? In   replacement strings?"
   ]
  },
  {
   "cell_type": "markdown",
   "id": "856fe628",
   "metadata": {},
   "source": [
    "In regular-expression search patterns, it is necessary to use the raw-string indicator (r) to indicate to Python that the string is a raw string and should not interpret any backslashes as escape sequences. This is particularly important when working with regular expressions that contain backslashes, such as when specifying a file path."
   ]
  }
 ],
 "metadata": {
  "kernelspec": {
   "display_name": "Python 3 (ipykernel)",
   "language": "python",
   "name": "python3"
  },
  "language_info": {
   "codemirror_mode": {
    "name": "ipython",
    "version": 3
   },
   "file_extension": ".py",
   "mimetype": "text/x-python",
   "name": "python",
   "nbconvert_exporter": "python",
   "pygments_lexer": "ipython3",
   "version": "3.9.13"
  }
 },
 "nbformat": 4,
 "nbformat_minor": 5
}
