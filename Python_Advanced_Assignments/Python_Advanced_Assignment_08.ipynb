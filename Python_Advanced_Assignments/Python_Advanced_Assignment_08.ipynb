{
 "cells": [
  {
   "cell_type": "markdown",
   "id": "22b134ce",
   "metadata": {},
   "source": [
    "Q1. What are the two latest user-defined exception constraints in Python 3.X?\n",
    "\n",
    "\n",
    "\n",
    "\n"
   ]
  },
  {
   "cell_type": "markdown",
   "id": "440ec686",
   "metadata": {},
   "source": [
    "In Python 3.X, the two latest user-defined exception constraints are:\n",
    "\n",
    "Exception classes must now inherit from the built-in Exception class, rather than the BaseException class.\n",
    "\n",
    "Exception handlers must now use the as keyword instead of a comma to bind the exception instance to a variable. This is known as the \"as\" keyword syntax for handling exceptions."
   ]
  },
  {
   "cell_type": "markdown",
   "id": "d5b2fb5d",
   "metadata": {},
   "source": [
    "Q2. How are class-based exceptions that have been raised matched to handlers?\n",
    "\n",
    "\n",
    "\n"
   ]
  },
  {
   "cell_type": "markdown",
   "id": "c8429f52",
   "metadata": {},
   "source": [
    "When a class-based exception is raised, Python first looks for an exception handler in the current block of code, and then moves up the call stack in search of a handler. The search continues until either a matching handler is found or the program terminates if no handler is found. If a handler is not found, the exception will propagate to the default exception handler and display a traceback. If a matching handler is found, its code block is executed and control returns to the point where the exception was raised."
   ]
  },
  {
   "cell_type": "markdown",
   "id": "70d3f8b1",
   "metadata": {},
   "source": [
    "Q3. Describe two methods for attaching context information to exception artefacts.\n",
    "\n",
    "\n",
    "\n"
   ]
  },
  {
   "cell_type": "markdown",
   "id": "f806f531",
   "metadata": {},
   "source": [
    "In Python, you can attach context information to exception artifacts in two ways:\n",
    "\n",
    "1. Using Exception Chaining: When catching an exception, you can create a new exception and attach the original exception as a cause using the raise ... from syntax. This provides context information about the original exception and helps with debugging. \n",
    "2. Using custom exception classes: You can create your own exception classes that carry additional context information as attributes.\n"
   ]
  },
  {
   "cell_type": "markdown",
   "id": "ed8e30ba",
   "metadata": {},
   "source": [
    "Q4. Describe two methods for specifying the text of an exception object's error message.\n",
    "\n",
    "\n"
   ]
  },
  {
   "cell_type": "markdown",
   "id": "25f98f0d",
   "metadata": {},
   "source": [
    "In Python, there are different ways to specify the text of an exception object's error message. Here are two methods:\n",
    "\n",
    "Raise an exception with a string argument:\n",
    "\n",
    "One way to specify the text of an exception object's error message is to raise an exception with a string argument. For example:\n",
    "\n",
    "<cite> raise ValueError(\"Invalid value provided\")</cite>\n",
    "\n",
    "Define a custom exception class:\n",
    "\n",
    "Another way to specify the text of an exception object's error message is to define a custom exception class and provide the error message in the class definition. For example:\n",
    "\n",
    "\n",
    "<cite> \n",
    "class MyException(Exception):\n",
    "    \n",
    "    def __init__(self, message):\n",
    "    \n",
    "        self.message = message\n",
    "\n",
    "raise MyException(\"Error: something went wrong\")\n",
    "\n",
    "</cite>\n"
   ]
  },
  {
   "cell_type": "markdown",
   "id": "4198ee85",
   "metadata": {},
   "source": [
    "\n",
    "Q5. Why do you no longer use string-based exceptions?"
   ]
  },
  {
   "cell_type": "markdown",
   "id": "d0daef8b",
   "metadata": {},
   "source": [
    "In older versions of Python, string-based exceptions were used to raise exceptions. However, this method has been deprecated because it is less informative and flexible than class-based exceptions. With string-based exceptions, there is no way to attach additional information to the exception, such as error codes or other attributes. Additionally, it is more difficult to catch specific exceptions because the handler must compare strings, which is not always reliable."
   ]
  }
 ],
 "metadata": {
  "kernelspec": {
   "display_name": "Python 3 (ipykernel)",
   "language": "python",
   "name": "python3"
  },
  "language_info": {
   "codemirror_mode": {
    "name": "ipython",
    "version": 3
   },
   "file_extension": ".py",
   "mimetype": "text/x-python",
   "name": "python",
   "nbconvert_exporter": "python",
   "pygments_lexer": "ipython3",
   "version": "3.9.13"
  }
 },
 "nbformat": 4,
 "nbformat_minor": 5
}
