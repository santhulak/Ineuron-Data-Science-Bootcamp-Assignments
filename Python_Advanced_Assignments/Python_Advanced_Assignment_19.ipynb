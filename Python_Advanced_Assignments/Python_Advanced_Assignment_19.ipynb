{
 "cells": [
  {
   "cell_type": "markdown",
   "id": "df4ce671",
   "metadata": {},
   "source": [
    "Q1. Define the relationship between a class and its instances. Is it a one-to-one or a one-to-many partnership, for example?\n",
    "\n"
   ]
  },
  {
   "cell_type": "markdown",
   "id": "dad56efd",
   "metadata": {},
   "source": [
    "In object-oriented programming, a class is a blueprint or template for creating objects, while an instance is a specific object created from that class. The relationship between a class and its instances is a one-to-many relationship, also known as a one-to-* relationship, where one class can have many instances. Each instance has its own set of properties and methods, but they all share the same class structure. A class provides a set of attributes and methods that define the behavior of its instances. "
   ]
  },
  {
   "cell_type": "markdown",
   "id": "fa48380a",
   "metadata": {},
   "source": [
    "Q2. What kind of data is held only in an instance?\n",
    "\n",
    "\n"
   ]
  },
  {
   "cell_type": "markdown",
   "id": "39d69d99",
   "metadata": {},
   "source": [
    "In Python, instance variables hold data that is unique to each instance of a class. These variables are defined within a class method using the self parameter and can be accessed and modified using dot notation (i.e., instance_variable_name). Instance variables are distinct from class variables, which are shared across all instances of a class."
   ]
  },
  {
   "cell_type": "markdown",
   "id": "ffcab49e",
   "metadata": {},
   "source": [
    "Q3. What kind of knowledge is stored in a class?\n",
    "\n"
   ]
  },
  {
   "cell_type": "markdown",
   "id": "ebc56eb8",
   "metadata": {},
   "source": [
    "The knowledge stored in a class includes the attributes and methods that define the behavior of the instances created from that class."
   ]
  },
  {
   "cell_type": "markdown",
   "id": "5b1c4fa4",
   "metadata": {},
   "source": [
    "Q4. What exactly is a method, and how is it different from a regular function?\n",
    "\n"
   ]
  },
  {
   "cell_type": "markdown",
   "id": "e04b5927",
   "metadata": {},
   "source": [
    "In Python, a method is a function that belongs to a class or an instance of a class. A method has access to the data of the class or instance it belongs to, and can manipulate it accordingly. \n",
    "\n",
    "The main difference between a method and a regular function is that a method is bound to an object, while a function is not. When a method is called, the object it belongs to is passed as the first argument (usually called self), so it can access the object's data. On the other hand, a regular function does not have access to an object's data unless it is explicitly passed as an argument.\n",
    "\n"
   ]
  },
  {
   "cell_type": "markdown",
   "id": "ab31a53c",
   "metadata": {},
   "source": [
    "Q5. Is inheritance supported in Python, and if so, what is the syntax?\n",
    "\n"
   ]
  },
  {
   "cell_type": "markdown",
   "id": "735b1196",
   "metadata": {},
   "source": [
    "Yes, inheritance is supported in Python.\n",
    "\n",
    "<cite>\n",
    "class Superclass:\n",
    "\n",
    "    def method1(self):\n",
    "    \n",
    "        # code for method1\n",
    "\n",
    "    def method2(self):\n",
    "    \n",
    "        # code for method2\n",
    "\n",
    "class Subclass(Superclass):\n",
    "\n",
    "    def method2(self):\n",
    "    \n",
    "        # overridden method2\n",
    "        \n",
    "        # code for overridden method2\n",
    "\n",
    "    def method3(self):\n",
    "    \n",
    "        # new method3\n",
    "        \n",
    "        # code for method3\n",
    "</cite>"
   ]
  },
  {
   "cell_type": "markdown",
   "id": "73d5e178",
   "metadata": {},
   "source": [
    "Q6. How much encapsulation (making instance or class variables private) does Python support?\n",
    "\n"
   ]
  },
  {
   "cell_type": "markdown",
   "id": "f4d8aed0",
   "metadata": {},
   "source": [
    "In Python, encapsulation is supported through the use of naming conventions rather than through language-level access modifiers. By convention, instance or class variables that are intended to be private are prefixed with a double underscore (__). This causes the name to be \"mangled\" by the Python interpreter, making it more difficult to access from outside the class. However, it is still possible to access these variables by name, so encapsulation in Python is more of a convention than a strict rule. Additionally, Python provides a property decorator that allows you to control access to instance variables via getter and setter methods."
   ]
  },
  {
   "cell_type": "markdown",
   "id": "99d7f88f",
   "metadata": {},
   "source": [
    "Q7. How do you distinguish between a class variable and an instance variable?\n"
   ]
  },
  {
   "cell_type": "markdown",
   "id": "4a989c7c",
   "metadata": {},
   "source": [
    "In Python, a class variable is a variable that is defined in the class definition, outside of any method. This variable is shared among all instances of the class. An instance variable, on the other hand, is a variable that is defined within the methods of the class, and is unique to each instance of the class."
   ]
  },
  {
   "cell_type": "markdown",
   "id": "7e813643",
   "metadata": {},
   "source": [
    "\n",
    "Q8. When, if ever, can self be included in a class's method definitions?\n",
    "\n"
   ]
  },
  {
   "cell_type": "markdown",
   "id": "cc48649b",
   "metadata": {},
   "source": [
    "In Python, self is included in every method definition in a class. It represents the instance of the class on which the method is called and is used to access the instance's attributes and methods. By convention, the first parameter of every instance method in a class should be self, even though it is not a keyword or reserved word in Python. The name self is simply a convention that makes the code more readable and makes it clear that the method is being called on an instance of the class rather than on the class itself."
   ]
  },
  {
   "cell_type": "markdown",
   "id": "6a16d83c",
   "metadata": {},
   "source": [
    "Q9. What is the difference between the _ _add_ _ and the _ _radd_ _ methods?\n",
    "\n"
   ]
  },
  {
   "cell_type": "markdown",
   "id": "547ca2b0",
   "metadata": {},
   "source": [
    "In Python, the __add__ method and the __radd__ method are both used for defining the behavior of the addition operator +, but they are called in different situations.\n",
    "\n",
    "The __add__ method is called when the addition operation is applied to an instance of the class on the left side of the operator. For example, if we have an object x of class MyClass and we execute x + y, the __add__ method of x will be called, and y will be passed as an argument.\n",
    "\n",
    "On the other hand, the __radd__ method is called when the addition operation is applied to an instance of the class on the right side of the operator. For example, if we have an object y of class MyClass and we execute x + y, the __radd__ method of y will be called, and x will be passed as an argument.\n",
    "\n"
   ]
  },
  {
   "cell_type": "markdown",
   "id": "8be45cbc",
   "metadata": {},
   "source": [
    "Q10. When is it necessary to use a reflection method? When do you not need it, even though you support the operation in question?\n",
    "\n"
   ]
  },
  {
   "cell_type": "markdown",
   "id": "2ca7ec61",
   "metadata": {},
   "source": [
    "Reflection methods, also known as reflection APIs, allow us to inspect or modify objects, classes, and other metadata at runtime. We typically use reflection methods when we need to dynamically examine or alter objects, such as when we want to access attributes of an object whose name is determined at runtime or when we want to dynamically create objects.\n",
    "\n",
    "In Python, we can use reflection methods such as getattr(), setattr(), and hasattr() to inspect and modify object attributes at runtime. We can also use built-in functions such as type() and isinstance() to inspect class and object types.\n"
   ]
  },
  {
   "cell_type": "markdown",
   "id": "8d20bbcf",
   "metadata": {},
   "source": [
    "Q11. What is the _ _iadd_ _ method called?\n",
    "\n"
   ]
  },
  {
   "cell_type": "markdown",
   "id": "a1ae744c",
   "metadata": {},
   "source": [
    "The __iadd__ method is also known as the \"in-place addition\" method, and it is used to implement the += operator for mutable objects. It allows modifying the object in place instead of creating a new object and assigning it back to the variable."
   ]
  },
  {
   "cell_type": "markdown",
   "id": "210d8935",
   "metadata": {},
   "source": [
    "Q12. Is the _ _init_ _ method inherited by subclasses? What do you do if you need to customize its behavior within a subclass?"
   ]
  },
  {
   "cell_type": "markdown",
   "id": "984ee850",
   "metadata": {},
   "source": [
    "Yes, the _init_ method is inherited by subclasses, and if you want to customize its behavior within a subclass, you can override it by defining a new _init_ method in the subclass.\n",
    "\n",
    "When you override _init_ in a subclass, it's often a good idea to call the parent class's _init_ method to initialize any inherited attributes. This can be done by calling super().__init__() within the subclass's _init_ method."
   ]
  }
 ],
 "metadata": {
  "kernelspec": {
   "display_name": "Python 3 (ipykernel)",
   "language": "python",
   "name": "python3"
  },
  "language_info": {
   "codemirror_mode": {
    "name": "ipython",
    "version": 3
   },
   "file_extension": ".py",
   "mimetype": "text/x-python",
   "name": "python",
   "nbconvert_exporter": "python",
   "pygments_lexer": "ipython3",
   "version": "3.9.13"
  }
 },
 "nbformat": 4,
 "nbformat_minor": 5
}
