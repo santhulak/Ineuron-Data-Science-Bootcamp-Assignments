{
 "cells": [
  {
   "cell_type": "markdown",
   "id": "e3ce1434",
   "metadata": {},
   "source": [
    "1. Compare and contrast the float and Decimal classes' benefits and drawbacks.\n",
    "\n",
    "\n",
    "\n"
   ]
  },
  {
   "cell_type": "markdown",
   "id": "4b295806",
   "metadata": {},
   "source": [
    "Both the float and Decimal classes are used to represent numbers in Python, but they differ in their precision and accuracy.\n",
    "\n",
    "The float class is the built-in floating-point type in Python, and it is implemented in hardware in most modern processors. The float class is suitable for most general-purpose numerical calculations.  It can represent a wide range of numbers, including very large and very small values, and it supports a variety of mathematical operations. However, because of the way floating-point numbers are stored and processed, there can be rounding errors and loss of precision when performing calculations with them.\n",
    "\n",
    "The Decimal class, on the other hand, provides a higher level of precision and accuracy than the float class, as it stores numbers as decimal fractions rather than as binary fractions. This makes it more suitable for financial calculations and other applications that require exact decimal arithmetic. Decimal class can be slower and less efficient than the float class, and it may not support all the mathematical functions or operations that the float class does.Decimal class is better suited for applications that require exact decimal arithmetic and a higher level of precision and accuracy."
   ]
  },
  {
   "cell_type": "markdown",
   "id": "8cd2623d",
   "metadata": {},
   "source": [
    "2. Decimal('1.200') and Decimal('1.2') are two objects to consider. In what sense are these the same object? Are these just two ways of representing the exact same value, or do they correspond to different internal states?\n",
    "\n",
    "\n",
    "\n"
   ]
  },
  {
   "cell_type": "markdown",
   "id": "c276f693",
   "metadata": {},
   "source": [
    "In Python's decimal module, Decimal('1.200') and Decimal('1.2') are not the same object because they have different internal states. They do, however, represent the same mathematical value with the same precision and rounding behavior. When a Decimal instance is created, it stores the exact value that was passed to it as a string, so in this case, the two instances are initialized with different strings. However, when mathematical operations are performed on them, they will produce the same results because the Decimal class is designed to handle exact decimal arithmetic with customizable precision and rounding rules. Therefore, while they are not the same object, they represent the same mathematical value."
   ]
  },
  {
   "cell_type": "markdown",
   "id": "d0629b1a",
   "metadata": {},
   "source": [
    "3. What happens if the equality of Decimal('1.200') and Decimal('1.2') is checked?\n",
    "\n",
    "\n",
    "\n"
   ]
  },
  {
   "cell_type": "markdown",
   "id": "5a210303",
   "metadata": {},
   "source": [
    "If the equality of Decimal('1.200') and Decimal('1.2') is checked using the == operator, the result will be False. Although these two decimals represent the same value, they are not the same object and therefore are not equal according to Python's default == operator. To check if two Decimal objects represent the same value, the compare() method or the == operator with the quantize() method should be used, which allows for the comparison of the values up to a certain number of decimal places. For example, Decimal('1.200').quantize(Decimal('0.0001')) == Decimal('1.2').quantize(Decimal('0.0001')) would evaluate to True."
   ]
  },
  {
   "cell_type": "markdown",
   "id": "3dbb09fc",
   "metadata": {},
   "source": [
    "4. Why is it preferable to start a Decimal object with a string rather than a floating-point value?\n",
    "\n",
    "\n",
    "\n"
   ]
  },
  {
   "cell_type": "markdown",
   "id": "1ace3a4d",
   "metadata": {},
   "source": [
    "It is preferable to start a Decimal object with a string rather than a floating-point value because floating-point arithmetic can result in rounding errors and inaccuracies due to the limitations of representing certain decimal values in binary. By starting with a string, the Decimal object can accurately represent the decimal value without any loss of precision. Additionally, starting with a string allows for greater control over the rounding and precision of the resulting Decimal object."
   ]
  },
  {
   "cell_type": "markdown",
   "id": "742c59b4",
   "metadata": {},
   "source": [
    "5. In an arithmetic phrase, how simple is it to combine Decimal objects with integers?\n",
    "\n",
    "\n",
    "\n"
   ]
  },
  {
   "cell_type": "markdown",
   "id": "e02f7711",
   "metadata": {},
   "source": [
    "Combining Decimal objects with integers in arithmetic expressions is straightforward. When an integer is used in an arithmetic expression with a Decimal object, it is first converted to a Decimal object. The Decimal object then carries out the arithmetic operation. "
   ]
  },
  {
   "cell_type": "markdown",
   "id": "891829c4",
   "metadata": {},
   "source": [
    "6. Can Decimal objects and floating-point values be combined easily?\n",
    "\n",
    "\n",
    "\n",
    "\n"
   ]
  },
  {
   "cell_type": "markdown",
   "id": "f884b136",
   "metadata": {},
   "source": [
    "While it is possible to combine Decimal objects and floating-point values in arithmetic expressions, it is generally not recommended as it can result in imprecise calculations due to the limitations of floating-point arithmetic. It is better to convert the floating-point value to a Decimal object before performing calculations. This can be done using the Decimal constructor with the floating-point value as a string argument.\n"
   ]
  },
  {
   "cell_type": "markdown",
   "id": "b97c6b3e",
   "metadata": {},
   "source": [
    "7. Using the Fraction class but not the Decimal class, give an example of a quantity that can be expressed with absolute precision.\n",
    "\n",
    "\n"
   ]
  },
  {
   "cell_type": "markdown",
   "id": "7a48ab12",
   "metadata": {},
   "source": [
    "An example of a quantity that can be expressed with absolute precision using the Fraction class is 1/3. When expressed as a decimal, this quantity becomes a non-repeating and non-terminating decimal (0.3333...), but when expressed as a fraction using the Fraction class, it retains absolute precision as 1/3."
   ]
  },
  {
   "cell_type": "markdown",
   "id": "38f5b76a",
   "metadata": {},
   "source": [
    "\n",
    "8. Describe a quantity that can be accurately expressed by the Decimal or Fraction classes but not by a floating-point value.\n",
    "\n",
    "\n",
    "\n"
   ]
  },
  {
   "cell_type": "markdown",
   "id": "e275f87c",
   "metadata": {},
   "source": [
    "An example of a quantity that can be accurately expressed by the Decimal or Fraction classes but not by a floating-point value is 0.1. When represented as a binary floating-point value, 0.1 has an infinite binary expansion, and therefore cannot be represented exactly. However, 0.1 can be represented exactly as a Decimal or Fraction object."
   ]
  },
  {
   "cell_type": "markdown",
   "id": "be722d6c",
   "metadata": {},
   "source": [
    "Q9.Consider the following two fraction objects: Fraction(1, 2) and Fraction(1, 2). (5, 10). Is the internal state of these two objects the same? Why do you think that is?\n",
    "\n",
    "\n"
   ]
  },
  {
   "cell_type": "markdown",
   "id": "fdd3679c",
   "metadata": {},
   "source": [
    "The internal states of the two fraction objects, Fraction(1, 2) and Fraction(5, 10), are not the same. Although mathematically, the two fractions are equal (1/2 = 5/10), they are represented differently. Fraction(1, 2) is in its reduced form, which means that the numerator and denominator have no common factors other than 1. In contrast, Fraction(5, 10) is not in its reduced form, as both the numerator and denominator can be divided by 5 to obtain Fraction(1, 2).\n",
    "\n",
    "When a Fraction object is created, it is automatically reduced to its simplest form. Therefore, any equivalent fractions that are not in their simplest form, like Fraction(5, 10), will be reduced to their simplest form during the creation of the object."
   ]
  },
  {
   "cell_type": "markdown",
   "id": "920893a1",
   "metadata": {},
   "source": [
    "\n",
    "Q10. How do the Fraction class and the integer type (int) relate to each other? Containment or inheritance?"
   ]
  },
  {
   "cell_type": "markdown",
   "id": "01690189",
   "metadata": {},
   "source": [
    "The Fraction class and the integer type (int) are related through containment, as the Fraction class can contain instances of integers as its numerator and denominator. The Fraction class is not a subclass of the int class, nor does it inherit any methods from int. However, since the Fraction class can accept integers as inputs and return them as results, it is closely related to the int class."
   ]
  }
 ],
 "metadata": {
  "kernelspec": {
   "display_name": "Python 3 (ipykernel)",
   "language": "python",
   "name": "python3"
  },
  "language_info": {
   "codemirror_mode": {
    "name": "ipython",
    "version": 3
   },
   "file_extension": ".py",
   "mimetype": "text/x-python",
   "name": "python",
   "nbconvert_exporter": "python",
   "pygments_lexer": "ipython3",
   "version": "3.9.13"
  }
 },
 "nbformat": 4,
 "nbformat_minor": 5
}
