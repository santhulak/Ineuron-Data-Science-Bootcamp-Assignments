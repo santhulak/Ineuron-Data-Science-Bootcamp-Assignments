{
 "cells": [
  {
   "cell_type": "markdown",
   "id": "c33c448f",
   "metadata": {},
   "source": [
    "Q1. Explain the difference between greedy and non-greedy syntax with visual terms in as few words as possible. What is the bare minimum effort required to transform a greedy pattern into a non-greedy one? What characters or characters can you introduce or change?\n",
    "\n",
    "\n",
    "\n"
   ]
  },
  {
   "cell_type": "markdown",
   "id": "65b03d2c",
   "metadata": {},
   "source": [
    "Greedy syntax matches as much of the input text as possible while still allowing the entire pattern to match. Non-greedy syntax, on the other hand, matches as little of the input text as possible while still allowing the pattern to match.\n",
    "\n",
    "To transform a greedy pattern into a non-greedy one, you can introduce the \"?\" character after the repetition operator, such as *? or +?. This will make the repetition operator match as little as possible.\n",
    "\n",
    "For example, the greedy pattern \".\" will match as much of the input text as possible, while the non-greedy pattern \".?\" will match as little as possible."
   ]
  },
  {
   "cell_type": "markdown",
   "id": "ab9a7053",
   "metadata": {},
   "source": [
    "Q2. When exactly does greedy versus non-greedy make a difference?  What if you're looking for a non-greedy match but the only one available is greedy?\n",
    "\n",
    "\n",
    "\n",
    "\n"
   ]
  },
  {
   "cell_type": "markdown",
   "id": "13824855",
   "metadata": {},
   "source": [
    "The difference between greedy and non-greedy matching occurs when there are multiple possible matches for a given regular expression. Greedy matching attempts to match the longest possible substring that satisfies the pattern, while non-greedy matching attempts to match the shortest possible substring.\n",
    "\n",
    "For example, given the string \"aabbaabbaa\" and the pattern \"a.*a\", greedy matching would return the entire string \"aabbaabbaa\", while non-greedy matching would return only \"aabbaa\".\n",
    "\n",
    "If a non-greedy match is not available but a greedy match is, then the greedy match will be returned."
   ]
  },
  {
   "cell_type": "markdown",
   "id": "ac2d2fc0",
   "metadata": {},
   "source": [
    "Q3. In a simple match of a string, which looks only for one match and does not do any replacement, is the use of a nontagged group likely to make any practical difference?\n",
    "\n",
    "\n",
    "\n"
   ]
  },
  {
   "cell_type": "markdown",
   "id": "bf7aff0f",
   "metadata": {},
   "source": [
    "In a simple match of a string, which looks only for one match and does not do any replacement, the use of a non-tagged group does not make any practical difference. Non-tagged groups are used to group parts of the pattern, but they do not capture the matched text and do not affect the result of the match. In a simple match, the matched text is usually retrieved using the match.group() method or a similar method, which returns the entire matched text regardless of whether it was matched inside a group or not. Therefore, in this case, the use of a non-tagged group would be superfluous."
   ]
  },
  {
   "cell_type": "markdown",
   "id": "debebe97",
   "metadata": {},
   "source": [
    "Q4. Describe a scenario in which using a nontagged category would have a significant impact on the program's outcomes.\n",
    "\n",
    "\n",
    "\n"
   ]
  },
  {
   "cell_type": "markdown",
   "id": "a1a04c2f",
   "metadata": {},
   "source": [
    "In a scenario where a regular expression pattern includes multiple tagged groups, using a nontagged category may have a significant impact on the program's outcomes. For example, consider a pattern that extracts phone numbers from a string that may include country codes, area codes, and the phone number itself. "
   ]
  },
  {
   "cell_type": "markdown",
   "id": "5934afb7",
   "metadata": {},
   "source": [
    "Q5. Unlike a normal regex pattern, a look-ahead condition does not consume the characters it examines. Describe a situation in which this could make a difference in the results of your programme.\n",
    "\n",
    "\n",
    "\n"
   ]
  },
  {
   "cell_type": "markdown",
   "id": "3f6f558b",
   "metadata": {},
   "source": [
    "Consider a scenario where you have a large text file and you want to search for a specific pattern that occurs multiple times within the text, but you also want to make sure that the pattern is followed by another specific pattern. In this case, you can use a look-ahead condition to check if the pattern is followed by the specific pattern without consuming the characters it examines.\n",
    "\n",
    "For example, if you want to find all instances of the word \"apple\" that are immediately followed by the word \"pie,\" you can use a regular expression with a positive look-ahead condition.\n",
    "\n"
   ]
  },
  {
   "cell_type": "markdown",
   "id": "cd0712ce",
   "metadata": {},
   "source": [
    "Q6. In standard expressions, what is the difference between positive look-ahead and negative look-ahead?\n",
    "\n",
    "\n",
    "\n"
   ]
  },
  {
   "cell_type": "markdown",
   "id": "72a1762f",
   "metadata": {},
   "source": [
    "In regular expressions, positive look-ahead and negative look-ahead are two types of look-ahead assertions that allow you to match a pattern based on what comes ahead of it without including the matched content in the final match.\n",
    "\n",
    "Positive look-ahead is represented by the syntax (?=...) and matches the pattern only if it is followed by a specific pattern specified in the parentheses. Negative look-ahead is represented by the syntax (?!...) and matches the pattern only if it is not followed by a specific pattern specified in the parentheses. "
   ]
  },
  {
   "cell_type": "markdown",
   "id": "0408ea79",
   "metadata": {},
   "source": [
    "Q7. What is the benefit of referring to groups by name rather than by number in a standard expression?\n",
    "\n",
    "\n",
    "\n"
   ]
  },
  {
   "cell_type": "markdown",
   "id": "7b0a0361",
   "metadata": {},
   "source": [
    "Referring to groups by name instead of by number in a standard expression has several benefits:\n",
    "\n",
    "Readability: Group names can make a regular expression more readable, especially if the pattern is complex and contains many groups.\n",
    "\n",
    "Maintainability: Group names make it easier to understand what the groups represent, which can be helpful when making changes to the regular expression.\n",
    "\n",
    "Reusability: Group names allow you to reference groups by name in replacement strings, which can make it easier to reuse regular expressions in different contexts.\n",
    "\n",
    "Flexibility: Group names can be more flexible than group numbers because they are independent of the order in which groups appear in the regular expression."
   ]
  },
  {
   "cell_type": "markdown",
   "id": "fa924df6",
   "metadata": {},
   "source": [
    "Q8. Can you identify repeated items within a target string using named groups, as in \"The cow jumped over the moon\"?\n",
    "\n",
    "\n",
    "\n"
   ]
  },
  {
   "cell_type": "markdown",
   "id": "97e68627",
   "metadata": {},
   "source": [
    "Yes, named groups can be used to identify repeated items within a target string. Here's an example using the given string \"The cow jumped over the moon\"\n",
    "\n",
    "import re\n",
    "\n",
    "string = \"the cow jumped over the moon\"\n",
    "\n",
    "pattern = r'(?P<word>\\w+) (?P=word)'\n",
    "\n",
    "matches = re.findall(pattern, string)\n",
    "    \n",
    "print(matches)\n",
    "\n"
   ]
  },
  {
   "cell_type": "markdown",
   "id": "d80e1800",
   "metadata": {},
   "source": [
    "Q9. When parsing a string, what is at least one thing that the Scanner interface does for you that the re.findall feature does not?\n",
    "\n",
    "\n",
    "\n"
   ]
  },
  {
   "cell_type": "markdown",
   "id": "30a3f72d",
   "metadata": {},
   "source": [
    "The Scanner interface is not a feature in Python, it is a feature in Java. It is used to tokenize input into a stream of tokens, which can then be processed. In contrast, re.findall is a Python regular expression method that returns all non-overlapping matches of a pattern in a string as a list of strings.\n",
    "\n",
    "One thing that Scanner can do for you that re.findall cannot is to handle more complex input formats, such as parsing a file with a mix of structured and unstructured data. Scanner can also be used to specify different delimiters for different types of tokens, whereas re.findall is primarily used for pattern matching."
   ]
  },
  {
   "cell_type": "markdown",
   "id": "10db9982",
   "metadata": {},
   "source": [
    "Q10. Does a scanner object have to be named scanner?"
   ]
  },
  {
   "cell_type": "markdown",
   "id": "9215346c",
   "metadata": {},
   "source": [
    "No, a scanner object can be named anything you like. The name you choose for the object is simply a variable name, and it does not affect the functionality of the object itself."
   ]
  }
 ],
 "metadata": {
  "kernelspec": {
   "display_name": "Python 3 (ipykernel)",
   "language": "python",
   "name": "python3"
  },
  "language_info": {
   "codemirror_mode": {
    "name": "ipython",
    "version": 3
   },
   "file_extension": ".py",
   "mimetype": "text/x-python",
   "name": "python",
   "nbconvert_exporter": "python",
   "pygments_lexer": "ipython3",
   "version": "3.9.13"
  }
 },
 "nbformat": 4,
 "nbformat_minor": 5
}
